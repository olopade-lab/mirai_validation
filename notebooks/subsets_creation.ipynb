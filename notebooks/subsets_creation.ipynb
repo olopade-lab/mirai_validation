{
 "cells": [
  {
   "cell_type": "code",
   "execution_count": null,
   "source": [
    "import pandas as pd"
   ],
   "outputs": [],
   "metadata": {}
  },
  {
   "cell_type": "code",
   "execution_count": null,
   "source": [],
   "outputs": [],
   "metadata": {}
  }
 ],
 "metadata": {
  "orig_nbformat": 4,
  "language_info": {
   "name": "python",
   "version": "3.9.5"
  },
  "kernelspec": {
   "name": "python3",
   "display_name": "Python 3.9.5 64-bit ('mirai': conda)"
  },
  "interpreter": {
   "hash": "f81672847bb1090e7e52f548ade7ee931ed9c782612733d3f97f3f9cac2437e9"
  }
 },
 "nbformat": 4,
 "nbformat_minor": 2
}