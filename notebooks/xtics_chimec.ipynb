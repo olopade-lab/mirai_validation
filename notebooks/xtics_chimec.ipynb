{
 "cells": [
  {
   "cell_type": "code",
   "execution_count": 185,
   "source": [
    "%load_ext lab_black\n",
    "%matplotlib inline\n",
    "%load_ext autoreload\n",
    "%autoreload 2\n",
    "import warnings\n",
    "\n",
    "import pandas as pd\n",
    "import matplotlib.pyplot as plt\n",
    "from upsetplot import plot, from_contents\n",
    "\n",
    "warnings.filterwarnings(\"ignore\")"
   ],
   "outputs": [],
   "metadata": {}
  },
  {
   "cell_type": "code",
   "execution_count": null,
   "source": [
    "data_path = \"/gpfs/data/phs/groups/Projects/Huo_projects/SPORE/ojomoleye/data/CRDW_Registry_IndexDx_2020_Jul23.csv\"\n",
    "data = pd.read_csv(data_path)\n",
    "\n",
    "mrn_to_study_id = pd.read_csv(\n",
    "    \"/gpfs/data/phs/groups/Projects/Huo_projects/SPORE/ojomoleye/data/mrn_to_study_id.csv\",\n",
    "    names=[\"mrn\", \"study_id\"],\n",
    ")\n",
    "mirai_loaded = pd.read_csv(\n",
    "    \"/gpfs/data/huo-lab/Image/ojomoleye/projects/mirai_validation/mirai_chimec_all.csv\"\n",
    ")\n",
    "downloaded_images = pd.read_pickle(\n",
    "    \"/gpfs/data/phs/groups/Projects/Huo_projects/SPORE/ojomoleye/data/downloaded_imaging_metadata.pkl\"\n",
    ")\n",
    "mirai_output = pd.read_csv(\n",
    "    \"/gpfs/data/huo-lab/Image/ojomoleye/projects/mirai_validation/data/interim_full_validation_output.csv\"\n",
    ")\n",
    "cases_and_controls = pd.read_csv(\n",
    "    \"/gpfs/data/phs/groups/Projects/Huo_projects/SPORE/ojomoleye/data/dr_7934_pats.txt\",\n",
    "    sep=\"|\",\n",
    ")\n",
    "\n",
    "spore_registration = pd.read_csv(\n",
    "    \"/gpfs/data/phs/groups/Projects/Huo_projects/SPORE/ojomoleye/data/SPORERegistrationDat_DATA_2021-06-21_0927.csv\"\n",
    ")\n",
    "\n",
    "first_metadata = pd.read_csv(\n",
    "    \"/gpfs/data/huo-lab/Image/ojomoleye/projects/mirai_validation/chimec_mammo_retry.csv\"\n",
    ")"
   ],
   "outputs": [],
   "metadata": {}
  },
  {
   "cell_type": "code",
   "execution_count": null,
   "source": [
    "mirai_output[\"patient_id\"] = mirai_output[\"patient_exam_id\"].apply(\n",
    "    lambda x: x.split(\"\\t\")[0]\n",
    ")"
   ],
   "outputs": [],
   "metadata": {}
  },
  {
   "cell_type": "code",
   "execution_count": null,
   "source": [
    "total_n = len(data.index)\n",
    "data = data[~pd.isnull(data.Age)]\n",
    "print(\"filtered out {} entries without a valid age\".format(total_n - len(data.index)))"
   ],
   "outputs": [
    {
     "output_type": "stream",
     "name": "stdout",
     "text": [
      "filtered out 46 entries without a valid age\n"
     ]
    }
   ],
   "metadata": {}
  },
  {
   "cell_type": "code",
   "execution_count": null,
   "source": [
    "total_n = len(data.index)\n",
    "data = data[~data.raceethnic.isin([\"98\", \"Yes\"])]\n",
    "\n",
    "print(\n",
    "    \"filtered out {} entries without a valid race/ethnic entry\".format(\n",
    "        total_n - len(data.index)\n",
    "    )\n",
    ")"
   ],
   "outputs": [
    {
     "output_type": "stream",
     "name": "stdout",
     "text": [
      "filtered out 2 entries without a valid race/ethnic entry\n"
     ]
    }
   ],
   "metadata": {}
  },
  {
   "cell_type": "code",
   "execution_count": null,
   "source": [
    "total_n = len(data.index)\n",
    "data.mrn = pd.to_numeric(data.mrn, errors=\"coerce\")\n",
    "data = data[~pd.isnull(data.mrn)]\n",
    "print(\"filtered out {} entries without a valid MRN\".format(total_n - len(data.index)))"
   ],
   "outputs": [
    {
     "output_type": "stream",
     "name": "stdout",
     "text": [
      "filtered out 0 entries without a valid MRN\n"
     ]
    }
   ],
   "metadata": {}
  },
  {
   "cell_type": "code",
   "execution_count": null,
   "source": [
    "total_n = len(data.index)\n",
    "data = data[~pd.isnull(data.stage1)]\n",
    "print(\n",
    "    \"filtered out {} entries without a valid stage at diagnosis\".format(\n",
    "        total_n - len(data.index)\n",
    "    )\n",
    ")"
   ],
   "outputs": [
    {
     "output_type": "stream",
     "name": "stdout",
     "text": [
      "filtered out 85 entries without a valid stage at diagnosis\n"
     ]
    }
   ],
   "metadata": {}
  },
  {
   "cell_type": "code",
   "execution_count": null,
   "source": [
    "data.mrn = data.mrn.astype(int)\n",
    "data.Age = data.Age.astype(int)\n",
    "data.stage1 = data.stage1.astype(int)\n",
    "data.her2 = pd.to_numeric(data.her2, errors=\"coerce\")\n",
    "data[\"datedx\"] = pd.to_datetime(data[\"datedx\"], infer_datetime_format=True)"
   ],
   "outputs": [],
   "metadata": {}
  },
  {
   "cell_type": "code",
   "execution_count": null,
   "source": [
    "data[\"binned_age\"] = pd.cut(data.Age, bins=[0, 39, 49, 59, 69, data.Age.max()])\n",
    "data[\"binned_age\"].value_counts(sort=False)"
   ],
   "outputs": [
    {
     "output_type": "execute_result",
     "data": {
      "text/plain": [
       "(0, 39]      432\n",
       "(39, 49]    1013\n",
       "(49, 59]    1129\n",
       "(59, 69]     964\n",
       "(69, 99]     832\n",
       "Name: binned_age, dtype: int64"
      ]
     },
     "metadata": {},
     "execution_count": 173
    }
   ],
   "metadata": {}
  },
  {
   "cell_type": "code",
   "execution_count": null,
   "source": [
    "race_groups = {\n",
    "    \"White\": [\"White\"],\n",
    "    \"Black\": [\"Black\"],\n",
    "    \"Asian / Pacific Islander\": [\n",
    "        \"Asian Indian\",\n",
    "        \"Asian Indian or Pakistani, NOS\",\n",
    "        \"Filipino\",\n",
    "        \"Chinese\",\n",
    "        \"Other Asian, including Asian/Oriental, NOS\",\n",
    "        \"Japanese\",\n",
    "        \"Korean\",\n",
    "        \"Hawaiian\",\n",
    "        \"Vietnamese\",\n",
    "        \"Thai (effective with 1994 diagnoses)\",\n",
    "        \"Pakistani\",\n",
    "    ],\n",
    "    \"Other\": [\"Other\", \"Unknown\"],\n",
    "}\n",
    "\n",
    "for label, group in race_groups.items():\n",
    "    print(label, len(data[data.race_1.str.contains(\"|\".join(group))]))"
   ],
   "outputs": [
    {
     "output_type": "stream",
     "name": "stdout",
     "text": [
      "White 2439\n",
      "Black 1680\n",
      "Asian / Pacific Islander 175\n",
      "Other 85\n"
     ]
    }
   ],
   "metadata": {}
  },
  {
   "cell_type": "code",
   "execution_count": null,
   "source": [
    "print(\n",
    "    \"Hispanic: {}, non-Hispanic: {}\".format(\n",
    "        len(data[data.raceethnic == \"Hispanic\"]),\n",
    "        len(data[data.raceethnic != \"Hispanic\"]),\n",
    "    )\n",
    ")"
   ],
   "outputs": [
    {
     "output_type": "stream",
     "name": "stdout",
     "text": [
      "Hispanic: 115, non-Hispanic: 4255\n"
     ]
    }
   ],
   "metadata": {}
  },
  {
   "cell_type": "code",
   "execution_count": null,
   "source": [
    "data[\"hr_pos\"] = (data.ER1 == 1) | (data.PR1 == 1)\n",
    "data[\"hr_neg\"] = (data.ER1 == 0) & (data.PR1 == 0)"
   ],
   "outputs": [],
   "metadata": {}
  },
  {
   "cell_type": "code",
   "execution_count": null,
   "source": [
    "print(\n",
    "    \"DCIS: {}\\nHR+/HER2+: {}\\nHR+/HER2-: {}\\nHR-/HER2+: {}\\nHR-/HER2-: {}\\nUnknown: {}\".format(\n",
    "        len(data[data.stage1 == 0]),\n",
    "        len(data[(data.stage1 != 0) & (data.hr_pos == True) & (data.her2 == 1)]),\n",
    "        len(data[(data.stage1 != 0) & (data.hr_pos == True) & (data.her2 == 0)]),\n",
    "        len(data[(data.stage1 != 0) & (data.hr_neg == True) & (data.her2 == 1)]),\n",
    "        len(data[(data.stage1 != 0) & (data.hr_neg == True) & (data.her2 == 0)]),\n",
    "        len(\n",
    "            data[\n",
    "                (data.stage1 != 0)\n",
    "                & (pd.isnull(data.ER1) | pd.isnull(data.PR1) | pd.isnull(data.her2))\n",
    "            ]\n",
    "        ),\n",
    "    )\n",
    ")"
   ],
   "outputs": [
    {
     "output_type": "stream",
     "name": "stdout",
     "text": [
      "DCIS: 678\n",
      "HR+/HER2+: 329\n",
      "HR+/HER2-: 1969\n",
      "HR-/HER2+: 206\n",
      "HR-/HER2-: 557\n",
      "Unknown: 636\n"
     ]
    }
   ],
   "metadata": {}
  },
  {
   "cell_type": "code",
   "execution_count": null,
   "source": [
    "print(\"patients diagnosed from {} to {}\".format(data.datedx.min(), data.datedx.max()))"
   ],
   "outputs": [
    {
     "output_type": "stream",
     "name": "stdout",
     "text": [
      "patients diagnosed from 1992-02-03 00:00:00 to 2019-12-31 00:00:00\n"
     ]
    }
   ],
   "metadata": {}
  },
  {
   "cell_type": "code",
   "execution_count": null,
   "source": [
    "data = data.merge(mrn_to_study_id, on=\"mrn\")"
   ],
   "outputs": [],
   "metadata": {}
  },
  {
   "cell_type": "code",
   "execution_count": null,
   "source": [
    "mirai_loaded[\"study_id\"] = mirai_loaded[\"patient_id\"]"
   ],
   "outputs": [],
   "metadata": {}
  },
  {
   "cell_type": "code",
   "execution_count": null,
   "source": [
    "total_n = len(data.index)\n",
    "data = data.drop_duplicates()\n",
    "print(\"filtered out {} duplicated entries\".format(total_n - len(data.index)))"
   ],
   "outputs": [
    {
     "output_type": "stream",
     "name": "stdout",
     "text": [
      "filtered out 54 duplicated entries\n"
     ]
    }
   ],
   "metadata": {}
  },
  {
   "cell_type": "code",
   "execution_count": null,
   "source": [
    "mirai_loaded = mirai_loaded.merge(\n",
    "    data, how=\"left\", on=\"study_id\", indicator=True, validate=\"m:m\"\n",
    ")"
   ],
   "outputs": [],
   "metadata": {}
  },
  {
   "cell_type": "code",
   "execution_count": null,
   "source": [
    "print(\n",
    "    \" of {} patients in mirai input set, {} match with CRDW data containing mrn which contains {} patients\".format(\n",
    "        mirai_loaded.study_id.nunique(),\n",
    "        mirai_loaded[mirai_loaded._merge == \"both\"].study_id.nunique(),\n",
    "        data.study_id.nunique()\n",
    "    )\n",
    ")"
   ],
   "outputs": [
    {
     "output_type": "stream",
     "name": "stdout",
     "text": [
      " of 416 patients in mirai input set, 12 match with data containing mrn\n"
     ]
    }
   ],
   "metadata": {}
  },
  {
   "cell_type": "code",
   "execution_count": null,
   "source": [],
   "outputs": [],
   "metadata": {}
  }
 ],
 "metadata": {
  "orig_nbformat": 4,
  "language_info": {
   "name": "python",
   "version": "3.9.5",
   "mimetype": "text/x-python",
   "codemirror_mode": {
    "name": "ipython",
    "version": 3
   },
   "pygments_lexer": "ipython3",
   "nbconvert_exporter": "python",
   "file_extension": ".py"
  },
  "kernelspec": {
   "name": "python3",
   "display_name": "Python 3.9.5 64-bit ('mirai': conda)"
  },
  "interpreter": {
   "hash": "f81672847bb1090e7e52f548ade7ee931ed9c782612733d3f97f3f9cac2437e9"
  }
 },
 "nbformat": 4,
 "nbformat_minor": 2
}