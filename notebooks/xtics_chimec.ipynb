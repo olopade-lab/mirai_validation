{
 "cells": [
  {
   "cell_type": "markdown",
   "metadata": {},
   "source": [
    "# ChiMEC Radiomics Input and Output Data for Mirai Validation \n",
    "This notebook describes the mammogram dataset in ChIMEC used to validate Mirai."
   ]
  },
  {
   "cell_type": "code",
   "execution_count": null,
   "metadata": {},
   "outputs": [],
   "source": []
  },
  {
   "cell_type": "code",
   "execution_count": 15,
   "metadata": {},
   "outputs": [
    {
     "ename": "ModuleNotFoundError",
     "evalue": "No module named 'utils'",
     "output_type": "error",
     "traceback": [
      "\u001b[0;31m---------------------------------------------------------------------------\u001b[0m",
      "\u001b[0;31mModuleNotFoundError\u001b[0m                       Traceback (most recent call last)",
      "\u001b[0;32m/tmp/ipykernel_14852/1660327308.py\u001b[0m in \u001b[0;36m<module>\u001b[0;34m\u001b[0m\n\u001b[1;32m      2\u001b[0m \u001b[0;32mimport\u001b[0m \u001b[0mpandas\u001b[0m \u001b[0;32mas\u001b[0m \u001b[0mpd\u001b[0m\u001b[0;34m\u001b[0m\u001b[0;34m\u001b[0m\u001b[0m\n\u001b[1;32m      3\u001b[0m \u001b[0;32mimport\u001b[0m \u001b[0mmatplotlib\u001b[0m\u001b[0;34m.\u001b[0m\u001b[0mpyplot\u001b[0m \u001b[0;32mas\u001b[0m \u001b[0mplt\u001b[0m\u001b[0;34m\u001b[0m\u001b[0;34m\u001b[0m\u001b[0m\n\u001b[0;32m----> 4\u001b[0;31m \u001b[0;32mfrom\u001b[0m \u001b[0mutils\u001b[0m\u001b[0;34m.\u001b[0m\u001b[0mmetadata_inspect\u001b[0m \u001b[0;32mimport\u001b[0m \u001b[0mprint_summary\u001b[0m\u001b[0;34m\u001b[0m\u001b[0;34m\u001b[0m\u001b[0m\n\u001b[0m",
      "\u001b[0;31mModuleNotFoundError\u001b[0m: No module named 'utils'"
     ]
    }
   ],
   "source": [
    "%matplotlib inline\n",
    "import pandas as pd\n",
    "import matplotlib.pyplot as plt\n",
    "from utils.metadata_inspect import print_summary\n"
   ]
  },
  {
   "cell_type": "code",
   "execution_count": 2,
   "metadata": {},
   "outputs": [],
   "source": [
    "# cut flow at /gpfs/data/huo-lab/Image/annawoodard/maicara/data/interim/mammo_v8/cutflow.txt\n",
    "metadata_path = '/gpfs/data/huo-lab/Image/annawoodard/maicara/data/interim/mammo_v8/series_metadata.pkl'\n",
    "metadata = pd.read_pickle(metadata_path)"
   ]
  },
  {
   "cell_type": "code",
   "execution_count": null,
   "metadata": {},
   "outputs": [],
   "source": []
  },
  {
   "cell_type": "code",
   "execution_count": 58,
   "metadata": {},
   "outputs": [
    {
     "name": "stdout",
     "output_type": "stream",
     "text": [
      "7824\n",
      " total hologic exams is 7824 \n",
      " percentage hologic exams is 98.46625766871165\n"
     ]
    }
   ],
   "source": [
    "latest = latest[latest.png_path.notnull()] #filter out those with non existent png paths\n",
    "hologic_mask = latest['Manufacturer'].str.contains('hologic|lorad', case=False, na=False, regex=True)\n",
    "total_exams = latest['exam_id'].nunique()\n",
    "print(total_exams)\n",
    "latest_hologic = latest[hologic_mask]\n",
    "percent_hologic = latest_hologic['exam_id'].nunique() / total_exams * 100\n",
    "print(f' total hologic exams is {total_exams} \\n percentage hologic exams is {percent_hologic}')\n",
    "\n"
   ]
  },
  {
   "cell_type": "code",
   "execution_count": 60,
   "metadata": {},
   "outputs": [
    {
     "data": {
      "text/plain": [
       "HOLOGIC, Inc.          29873\n",
       "LORAD                   1128\n",
       "KODAK                    136\n",
       "SIEMENS                   80\n",
       "R2 Technology, Inc.        3\n",
       "GE MEDICAL SYSTEMS         2\n",
       "UNKNOWN                    1\n",
       "AMICAS-NSC                 1\n",
       "Name: Manufacturer, dtype: int64"
      ]
     },
     "execution_count": 60,
     "metadata": {},
     "output_type": "execute_result"
    }
   ],
   "source": [
    "latest.Manufacturer.value_counts()"
   ]
  },
  {
   "cell_type": "code",
   "execution_count": 41,
   "metadata": {},
   "outputs": [
    {
     "name": "stdout",
     "output_type": "stream",
     "text": [
      "length before dropping na is 180614\n",
      "length after dropping na is 180614\n",
      "percentage of Hologic Machines in the dataset is about 48.66012601459466\n"
     ]
    },
    {
     "data": {
      "text/plain": [
       "HOLOGIC, Inc.               85890\n",
       "LORAD                        1965\n",
       "Lorad, A Hologic Company       32\n",
       "Name: Manufacturer, dtype: int64"
      ]
     },
     "execution_count": 41,
     "metadata": {},
     "output_type": "execute_result"
    }
   ],
   "source": [
    "print(f'length before dropping na is {len(latest)}')\n",
    "latest = latest.dropna(how='all')\n",
    "print(f'length after dropping na is {len(latest)}')\n",
    "latest.Manufacturer.value_counts()\n",
    "len1 = len(latest)\n",
    "hologic_mask = latest['Manufacturer'].str.contains('hologic|lorad', case=False, na=False, regex=True)\n",
    "latest = latest[hologic_mask]\n",
    "len2 = len(latest)\n",
    "print(f'percentage of Hologic Machines in the dataset is about {(len2 / len1)* 100}')\n",
    "latest.Manufacturer.value_counts()"
   ]
  },
  {
   "cell_type": "code",
   "execution_count": 7,
   "metadata": {},
   "outputs": [],
   "source": [
    "data_path = \"/gpfs/data/phs/groups/Projects/Huo_projects/SPORE/ojomoleye/data/CRDW_Registry_IndexDx_2020_Jul23.csv\"\n",
    "data = pd.read_csv(data_path)\n",
    "\n",
    "metadata_path = \"/gpfs/data/huo-lab/Image/ojomoleye/projects/mirai_validation/chimec_mammo_retry.csv\"  # output of filter_and_convert.py script\n",
    "metadata = pd.read_csv(metadata_path)\n",
    "\n",
    "mrn_to_study_id = pd.read_csv(\n",
    "    \"/gpfs/data/phs/groups/Projects/Huo_projects/SPORE/ojomoleye/data/mrn_to_study_id.csv\",\n",
    "    names=[\"mrn\", \"study_id\"],\n",
    ")\n",
    "mirai_loaded = pd.read_csv(\n",
    "    \"/gpfs/data/huo-lab/Image/ojomoleye/projects/mirai_validation/mirai_chimec_all.csv\"\n",
    ")\n",
    "downloaded_images = pd.read_pickle(\n",
    "    \"/gpfs/data/phs/groups/Projects/Huo_projects/SPORE/ojomoleye/data/downloaded_imaging_metadata.pkl\"\n",
    ")\n",
    "mirai_output = pd.read_csv(\n",
    "    \"/gpfs/data/huo-lab/Image/ojomoleye/projects/mirai_validation/data/interim_full_validation_output.csv\"\n",
    ")\n",
    "cases_and_controls = pd.read_csv(\n",
    "    \"/gpfs/data/phs/groups/Projects/Huo_projects/SPORE/ojomoleye/data/dr_7934_pats.txt\",\n",
    "    sep=\"|\",\n",
    ")\n",
    "\n",
    "spore_registration = pd.read_csv(\n",
    "    \"/gpfs/data/phs/groups/Projects/Huo_projects/SPORE/ojomoleye/data/SPORERegistrationDat_DATA_2021-06-21_0927.csv\"\n",
    ")"
   ]
  },
  {
   "cell_type": "code",
   "execution_count": 8,
   "metadata": {},
   "outputs": [],
   "source": [
    "mirai_output[\"patient_id\"] = mirai_output[\"patient_exam_id\"].apply(\n",
    "    lambda x: x.split(\"\\t\")[0]\n",
    ")"
   ]
  },
  {
   "cell_type": "markdown",
   "metadata": {},
   "source": [
    "CRDW DATASET "
   ]
  },
  {
   "cell_type": "code",
   "execution_count": 9,
   "metadata": {},
   "outputs": [
    {
     "name": "stdout",
     "output_type": "stream",
     "text": [
      "filtered out 46 entries without a valid age\n"
     ]
    }
   ],
   "source": [
    "total_n = len(data.index)\n",
    "data = data[~pd.isnull(data.Age)]\n",
    "print(\"filtered out {} entries without a valid age\".format(total_n - len(data.index)))"
   ]
  },
  {
   "cell_type": "code",
   "execution_count": 10,
   "metadata": {},
   "outputs": [
    {
     "name": "stdout",
     "output_type": "stream",
     "text": [
      "filtered out 2 entries without a valid race/ethnic entry\n"
     ]
    }
   ],
   "source": [
    "total_n = len(data.index)\n",
    "data = data[~data.raceethnic.isin([\"98\", \"Yes\"])]\n",
    "\n",
    "print(\n",
    "    \"filtered out {} entries without a valid race/ethnic entry\".format(\n",
    "        total_n - len(data.index)\n",
    "    )\n",
    ")"
   ]
  },
  {
   "cell_type": "code",
   "execution_count": 11,
   "metadata": {},
   "outputs": [
    {
     "name": "stdout",
     "output_type": "stream",
     "text": [
      "filtered out 0 entries without a valid MRN\n"
     ]
    }
   ],
   "source": [
    "total_n = len(data.index)\n",
    "data.mrn = pd.to_numeric(data.mrn, errors=\"coerce\")\n",
    "data = data[~pd.isnull(data.mrn)]\n",
    "print(\"filtered out {} entries without a valid MRN\".format(total_n - len(data.index)))"
   ]
  },
  {
   "cell_type": "code",
   "execution_count": 12,
   "metadata": {},
   "outputs": [
    {
     "name": "stdout",
     "output_type": "stream",
     "text": [
      "filtered out 85 entries without a valid stage at diagnosis\n"
     ]
    }
   ],
   "source": [
    "total_n = len(data.index)\n",
    "data = data[~pd.isnull(data.stage1)]\n",
    "print(\n",
    "    \"filtered out {} entries without a valid stage at diagnosis\".format(\n",
    "        total_n - len(data.index)\n",
    "    )\n",
    ")"
   ]
  },
  {
   "cell_type": "code",
   "execution_count": 13,
   "metadata": {},
   "outputs": [],
   "source": [
    "data.mrn = data.mrn.astype(int)\n",
    "data.Age = data.Age.astype(int)\n",
    "data.stage1 = data.stage1.astype(int)\n",
    "data.her2 = pd.to_numeric(data.her2, errors=\"coerce\")\n",
    "data[\"datedx\"] = pd.to_datetime(data[\"datedx\"], infer_datetime_format=True)"
   ]
  },
  {
   "cell_type": "code",
   "execution_count": 14,
   "metadata": {},
   "outputs": [
    {
     "data": {
      "text/plain": [
       "(0, 39]      432\n",
       "(39, 49]    1013\n",
       "(49, 59]    1129\n",
       "(59, 69]     964\n",
       "(69, 99]     832\n",
       "Name: binned_age, dtype: int64"
      ]
     },
     "execution_count": 14,
     "metadata": {},
     "output_type": "execute_result"
    }
   ],
   "source": [
    "data[\"binned_age\"] = pd.cut(data.Age, bins=[0, 39, 49, 59, 69, data.Age.max()])\n",
    "data[\"binned_age\"].value_counts(sort=False)"
   ]
  },
  {
   "cell_type": "code",
   "execution_count": 15,
   "metadata": {},
   "outputs": [
    {
     "name": "stdout",
     "output_type": "stream",
     "text": [
      "White 2439\n",
      "Black 1680\n",
      "Asian / Pacific Islander 175\n",
      "Other 85\n"
     ]
    }
   ],
   "source": [
    "race_groups = {\n",
    "    \"White\": [\"White\"],\n",
    "    \"Black\": [\"Black\"],\n",
    "    \"Asian / Pacific Islander\": [\n",
    "        \"Asian Indian\",\n",
    "        \"Asian Indian or Pakistani, NOS\",\n",
    "        \"Filipino\",\n",
    "        \"Chinese\",\n",
    "        \"Other Asian, including Asian/Oriental, NOS\",\n",
    "        \"Japanese\",\n",
    "        \"Korean\",\n",
    "        \"Hawaiian\",\n",
    "        \"Vietnamese\",\n",
    "        \"Thai (effective with 1994 diagnoses)\",\n",
    "        \"Pakistani\",\n",
    "    ],\n",
    "    \"Other\": [\"Other\", \"Unknown\"],\n",
    "}\n",
    "\n",
    "for label, group in race_groups.items():\n",
    "    print(label, len(data[data.race_1.str.contains(\"|\".join(group))]))"
   ]
  },
  {
   "cell_type": "code",
   "execution_count": 16,
   "metadata": {},
   "outputs": [
    {
     "name": "stdout",
     "output_type": "stream",
     "text": [
      "Hispanic: 115, non-Hispanic: 4255\n"
     ]
    }
   ],
   "source": [
    "print(\n",
    "    \"Hispanic: {}, non-Hispanic: {}\".format(\n",
    "        len(data[data.raceethnic == \"Hispanic\"]),\n",
    "        len(data[data.raceethnic != \"Hispanic\"]),\n",
    "    )\n",
    ")"
   ]
  },
  {
   "cell_type": "code",
   "execution_count": 17,
   "metadata": {},
   "outputs": [],
   "source": [
    "data[\"hr_pos\"] = (data.ER1 == 1) | (data.PR1 == 1)\n",
    "data[\"hr_neg\"] = (data.ER1 == 0) & (data.PR1 == 0)"
   ]
  },
  {
   "cell_type": "code",
   "execution_count": 18,
   "metadata": {},
   "outputs": [
    {
     "name": "stdout",
     "output_type": "stream",
     "text": [
      "DCIS: 678\n",
      "HR+/HER2+: 329\n",
      "HR+/HER2-: 1969\n",
      "HR-/HER2+: 206\n",
      "HR-/HER2-: 557\n",
      "Unknown: 636\n"
     ]
    }
   ],
   "source": [
    "print(\n",
    "    \"DCIS: {}\\nHR+/HER2+: {}\\nHR+/HER2-: {}\\nHR-/HER2+: {}\\nHR-/HER2-: {}\\nUnknown: {}\".format(\n",
    "        len(data[data.stage1 == 0]),\n",
    "        len(data[(data.stage1 != 0) & (data.hr_pos == True) & (data.her2 == 1)]),\n",
    "        len(data[(data.stage1 != 0) & (data.hr_pos == True) & (data.her2 == 0)]),\n",
    "        len(data[(data.stage1 != 0) & (data.hr_neg == True) & (data.her2 == 1)]),\n",
    "        len(data[(data.stage1 != 0) & (data.hr_neg == True) & (data.her2 == 0)]),\n",
    "        len(\n",
    "            data[\n",
    "                (data.stage1 != 0)\n",
    "                & (pd.isnull(data.ER1) | pd.isnull(data.PR1) | pd.isnull(data.her2))\n",
    "            ]\n",
    "        ),\n",
    "    )\n",
    ")"
   ]
  },
  {
   "cell_type": "code",
   "execution_count": 19,
   "metadata": {},
   "outputs": [
    {
     "name": "stdout",
     "output_type": "stream",
     "text": [
      "patients diagnosed from 1992-02-03 00:00:00 to 2019-12-31 00:00:00\n"
     ]
    }
   ],
   "source": [
    "print(\"patients diagnosed from {} to {}\".format(data.datedx.min(), data.datedx.max()))"
   ]
  },
  {
   "cell_type": "code",
   "execution_count": 20,
   "metadata": {},
   "outputs": [
    {
     "data": {
      "text/plain": [
       "both          4424\n",
       "left_only        0\n",
       "right_only       0\n",
       "Name: _merge, dtype: int64"
      ]
     },
     "execution_count": 20,
     "metadata": {},
     "output_type": "execute_result"
    }
   ],
   "source": [
    "data = data.merge(mrn_to_study_id, how=\"left\", on=\"mrn\", indicator=True)\n",
    "data._merge.value_counts()  # all patients in CRDW represented in mrn_to_studyid map"
   ]
  },
  {
   "cell_type": "code",
   "execution_count": 21,
   "metadata": {},
   "outputs": [],
   "source": [
    "# drop _merge column, no longer needed\n",
    "data.drop(columns=\"_merge\", axis=1, inplace=True)"
   ]
  },
  {
   "cell_type": "code",
   "execution_count": 22,
   "metadata": {},
   "outputs": [],
   "source": [
    "mirai_loaded[\"study_id\"] = mirai_loaded[\"patient_id\"]"
   ]
  },
  {
   "cell_type": "code",
   "execution_count": 23,
   "metadata": {},
   "outputs": [
    {
     "name": "stdout",
     "output_type": "stream",
     "text": [
      "filtered out 54 duplicated entries\n"
     ]
    }
   ],
   "source": [
    "total_n = len(data.index)\n",
    "data = data.drop_duplicates()\n",
    "print(\"filtered out {} duplicated entries\".format(total_n - len(data.index)))"
   ]
  },
  {
   "cell_type": "code",
   "execution_count": 24,
   "metadata": {},
   "outputs": [],
   "source": [
    "mirai_loaded = mirai_loaded.merge(\n",
    "    data, how=\"left\", on=\"study_id\", indicator=True, validate=\"m:1\"\n",
    ")"
   ]
  },
  {
   "cell_type": "code",
   "execution_count": 25,
   "metadata": {},
   "outputs": [
    {
     "name": "stdout",
     "output_type": "stream",
     "text": [
      " of 416 patients in mirai input set, 12 match with CRDW data containing mrn which contains 4370 patients\n"
     ]
    }
   ],
   "source": [
    "print(\n",
    "    \" of {} patients in mirai input set, {} match with CRDW data containing mrn which contains {} patients\".format(\n",
    "        mirai_loaded.study_id.nunique(),\n",
    "        mirai_loaded[mirai_loaded._merge == \"both\"].study_id.nunique(),\n",
    "        data.study_id.nunique(),\n",
    "    )\n",
    ")"
   ]
  },
  {
   "cell_type": "code",
   "execution_count": 26,
   "metadata": {},
   "outputs": [],
   "source": [
    "# rename for easier merging later\n",
    "spore_registration[\"mrn\"] = spore_registration[\"ucmc\"]"
   ]
  },
  {
   "cell_type": "code",
   "execution_count": 27,
   "metadata": {},
   "outputs": [
    {
     "name": "stdout",
     "output_type": "stream",
     "text": [
      "filtered out 0 entries without a valid MRN\n"
     ]
    }
   ],
   "source": [
    "d = spore_registration\n",
    "total_n = len(d.index)\n",
    "data.mrn = pd.to_numeric(d.mrn, errors=\"coerce\")\n",
    "data = d[~pd.isnull(d.mrn)]\n",
    "print(\"filtered out {} entries without a valid MRN\".format(total_n - len(data.index)))\n",
    "spore_registration = d"
   ]
  },
  {
   "cell_type": "code",
   "execution_count": 28,
   "metadata": {},
   "outputs": [],
   "source": [
    "spore_registration = spore_registration.merge(\n",
    "    mrn_to_study_id, how=\"left\", on=\"mrn\", indicator=True\n",
    ")"
   ]
  },
  {
   "cell_type": "code",
   "execution_count": 29,
   "metadata": {},
   "outputs": [],
   "source": [
    "spore_registration._merge.value_counts()\n",
    "spore_registration.drop(columns=\"_merge\", axis=1, inplace=True)\n",
    "mirai_loaded.drop(columns=\"_merge\", axis=1, inplace=True)"
   ]
  },
  {
   "cell_type": "code",
   "execution_count": 30,
   "metadata": {},
   "outputs": [],
   "source": [
    "mirai_loaded = mirai_loaded.merge(\n",
    "    spore_registration, how=\"left\", on=\"mrn\", indicator=True\n",
    ")"
   ]
  },
  {
   "cell_type": "code",
   "execution_count": 31,
   "metadata": {},
   "outputs": [
    {
     "data": {
      "text/plain": [
       "left_only     7404\n",
       "both           188\n",
       "right_only       0\n",
       "Name: _merge, dtype: int64"
      ]
     },
     "execution_count": 31,
     "metadata": {},
     "output_type": "execute_result"
    }
   ],
   "source": [
    "mirai_loaded._merge.value_counts()"
   ]
  },
  {
   "cell_type": "code",
   "execution_count": 32,
   "metadata": {},
   "outputs": [
    {
     "data": {
      "text/html": [
       "<div>\n",
       "<style scoped>\n",
       "    .dataframe tbody tr th:only-of-type {\n",
       "        vertical-align: middle;\n",
       "    }\n",
       "\n",
       "    .dataframe tbody tr th {\n",
       "        vertical-align: top;\n",
       "    }\n",
       "\n",
       "    .dataframe thead th {\n",
       "        text-align: right;\n",
       "    }\n",
       "</style>\n",
       "<table border=\"1\" class=\"dataframe\">\n",
       "  <thead>\n",
       "    <tr style=\"text-align: right;\">\n",
       "      <th></th>\n",
       "      <th>Unnamed: 0</th>\n",
       "      <th>Unnamed: 0.1</th>\n",
       "      <th>patient_id</th>\n",
       "      <th>exam_id</th>\n",
       "      <th>laterality_x</th>\n",
       "      <th>view</th>\n",
       "      <th>years_to_cancer</th>\n",
       "      <th>years_to_last_followup</th>\n",
       "      <th>file_path</th>\n",
       "      <th>split_group</th>\n",
       "      <th>...</th>\n",
       "      <th>uncle_half_pat_cancer_type___6</th>\n",
       "      <th>uncle_half_pat_cancer_type___5</th>\n",
       "      <th>uncle_half_pat_cancer_type___10</th>\n",
       "      <th>uncle_half_pat_cancer_type___7</th>\n",
       "      <th>uncle_half_pat_cancer_type___8</th>\n",
       "      <th>uncle_half_pat_cancer_type___9</th>\n",
       "      <th>uncle_half_pat_cancer_age</th>\n",
       "      <th>cancer_risk_survey_complete</th>\n",
       "      <th>study_id_y</th>\n",
       "      <th>_merge</th>\n",
       "    </tr>\n",
       "  </thead>\n",
       "  <tbody>\n",
       "    <tr>\n",
       "      <th>0</th>\n",
       "      <td>0</td>\n",
       "      <td>0</td>\n",
       "      <td>58982377</td>\n",
       "      <td>2O10729</td>\n",
       "      <td>L</td>\n",
       "      <td>CC</td>\n",
       "      <td>100</td>\n",
       "      <td>4</td>\n",
       "      <td>/gpfs/data/huo-lab/Image/ojomoleye/projects/mi...</td>\n",
       "      <td>test</td>\n",
       "      <td>...</td>\n",
       "      <td>NaN</td>\n",
       "      <td>NaN</td>\n",
       "      <td>NaN</td>\n",
       "      <td>NaN</td>\n",
       "      <td>NaN</td>\n",
       "      <td>NaN</td>\n",
       "      <td>NaN</td>\n",
       "      <td>NaN</td>\n",
       "      <td>NaN</td>\n",
       "      <td>left_only</td>\n",
       "    </tr>\n",
       "    <tr>\n",
       "      <th>1</th>\n",
       "      <td>1</td>\n",
       "      <td>1</td>\n",
       "      <td>58982377</td>\n",
       "      <td>2O10729</td>\n",
       "      <td>R</td>\n",
       "      <td>MLO</td>\n",
       "      <td>100</td>\n",
       "      <td>4</td>\n",
       "      <td>/gpfs/data/huo-lab/Image/ojomoleye/projects/mi...</td>\n",
       "      <td>test</td>\n",
       "      <td>...</td>\n",
       "      <td>NaN</td>\n",
       "      <td>NaN</td>\n",
       "      <td>NaN</td>\n",
       "      <td>NaN</td>\n",
       "      <td>NaN</td>\n",
       "      <td>NaN</td>\n",
       "      <td>NaN</td>\n",
       "      <td>NaN</td>\n",
       "      <td>NaN</td>\n",
       "      <td>left_only</td>\n",
       "    </tr>\n",
       "    <tr>\n",
       "      <th>2</th>\n",
       "      <td>2</td>\n",
       "      <td>2</td>\n",
       "      <td>58982377</td>\n",
       "      <td>2O10729</td>\n",
       "      <td>R</td>\n",
       "      <td>MLO</td>\n",
       "      <td>100</td>\n",
       "      <td>4</td>\n",
       "      <td>/gpfs/data/huo-lab/Image/ojomoleye/projects/mi...</td>\n",
       "      <td>test</td>\n",
       "      <td>...</td>\n",
       "      <td>NaN</td>\n",
       "      <td>NaN</td>\n",
       "      <td>NaN</td>\n",
       "      <td>NaN</td>\n",
       "      <td>NaN</td>\n",
       "      <td>NaN</td>\n",
       "      <td>NaN</td>\n",
       "      <td>NaN</td>\n",
       "      <td>NaN</td>\n",
       "      <td>left_only</td>\n",
       "    </tr>\n",
       "    <tr>\n",
       "      <th>3</th>\n",
       "      <td>3</td>\n",
       "      <td>3</td>\n",
       "      <td>58982377</td>\n",
       "      <td>2O10729</td>\n",
       "      <td>R</td>\n",
       "      <td>CC</td>\n",
       "      <td>100</td>\n",
       "      <td>4</td>\n",
       "      <td>/gpfs/data/huo-lab/Image/ojomoleye/projects/mi...</td>\n",
       "      <td>test</td>\n",
       "      <td>...</td>\n",
       "      <td>NaN</td>\n",
       "      <td>NaN</td>\n",
       "      <td>NaN</td>\n",
       "      <td>NaN</td>\n",
       "      <td>NaN</td>\n",
       "      <td>NaN</td>\n",
       "      <td>NaN</td>\n",
       "      <td>NaN</td>\n",
       "      <td>NaN</td>\n",
       "      <td>left_only</td>\n",
       "    </tr>\n",
       "    <tr>\n",
       "      <th>4</th>\n",
       "      <td>4</td>\n",
       "      <td>4</td>\n",
       "      <td>58982377</td>\n",
       "      <td>2O10729</td>\n",
       "      <td>R</td>\n",
       "      <td>CC</td>\n",
       "      <td>100</td>\n",
       "      <td>4</td>\n",
       "      <td>/gpfs/data/huo-lab/Image/ojomoleye/projects/mi...</td>\n",
       "      <td>test</td>\n",
       "      <td>...</td>\n",
       "      <td>NaN</td>\n",
       "      <td>NaN</td>\n",
       "      <td>NaN</td>\n",
       "      <td>NaN</td>\n",
       "      <td>NaN</td>\n",
       "      <td>NaN</td>\n",
       "      <td>NaN</td>\n",
       "      <td>NaN</td>\n",
       "      <td>NaN</td>\n",
       "      <td>left_only</td>\n",
       "    </tr>\n",
       "    <tr>\n",
       "      <th>...</th>\n",
       "      <td>...</td>\n",
       "      <td>...</td>\n",
       "      <td>...</td>\n",
       "      <td>...</td>\n",
       "      <td>...</td>\n",
       "      <td>...</td>\n",
       "      <td>...</td>\n",
       "      <td>...</td>\n",
       "      <td>...</td>\n",
       "      <td>...</td>\n",
       "      <td>...</td>\n",
       "      <td>...</td>\n",
       "      <td>...</td>\n",
       "      <td>...</td>\n",
       "      <td>...</td>\n",
       "      <td>...</td>\n",
       "      <td>...</td>\n",
       "      <td>...</td>\n",
       "      <td>...</td>\n",
       "      <td>...</td>\n",
       "      <td>...</td>\n",
       "    </tr>\n",
       "    <tr>\n",
       "      <th>7587</th>\n",
       "      <td>7555</td>\n",
       "      <td>11003</td>\n",
       "      <td>38461703</td>\n",
       "      <td>2O16486</td>\n",
       "      <td>L</td>\n",
       "      <td>MLO</td>\n",
       "      <td>100</td>\n",
       "      <td>2</td>\n",
       "      <td>/gpfs/data/huo-lab/Image/ojomoleye/projects/mi...</td>\n",
       "      <td>test</td>\n",
       "      <td>...</td>\n",
       "      <td>NaN</td>\n",
       "      <td>NaN</td>\n",
       "      <td>NaN</td>\n",
       "      <td>NaN</td>\n",
       "      <td>NaN</td>\n",
       "      <td>NaN</td>\n",
       "      <td>NaN</td>\n",
       "      <td>NaN</td>\n",
       "      <td>NaN</td>\n",
       "      <td>left_only</td>\n",
       "    </tr>\n",
       "    <tr>\n",
       "      <th>7588</th>\n",
       "      <td>7556</td>\n",
       "      <td>11004</td>\n",
       "      <td>38461703</td>\n",
       "      <td>2O16486</td>\n",
       "      <td>R</td>\n",
       "      <td>MLO</td>\n",
       "      <td>100</td>\n",
       "      <td>2</td>\n",
       "      <td>/gpfs/data/huo-lab/Image/ojomoleye/projects/mi...</td>\n",
       "      <td>test</td>\n",
       "      <td>...</td>\n",
       "      <td>NaN</td>\n",
       "      <td>NaN</td>\n",
       "      <td>NaN</td>\n",
       "      <td>NaN</td>\n",
       "      <td>NaN</td>\n",
       "      <td>NaN</td>\n",
       "      <td>NaN</td>\n",
       "      <td>NaN</td>\n",
       "      <td>NaN</td>\n",
       "      <td>left_only</td>\n",
       "    </tr>\n",
       "    <tr>\n",
       "      <th>7589</th>\n",
       "      <td>7557</td>\n",
       "      <td>11005</td>\n",
       "      <td>38461703</td>\n",
       "      <td>2O16486</td>\n",
       "      <td>R</td>\n",
       "      <td>CC</td>\n",
       "      <td>100</td>\n",
       "      <td>2</td>\n",
       "      <td>/gpfs/data/huo-lab/Image/ojomoleye/projects/mi...</td>\n",
       "      <td>test</td>\n",
       "      <td>...</td>\n",
       "      <td>NaN</td>\n",
       "      <td>NaN</td>\n",
       "      <td>NaN</td>\n",
       "      <td>NaN</td>\n",
       "      <td>NaN</td>\n",
       "      <td>NaN</td>\n",
       "      <td>NaN</td>\n",
       "      <td>NaN</td>\n",
       "      <td>NaN</td>\n",
       "      <td>left_only</td>\n",
       "    </tr>\n",
       "    <tr>\n",
       "      <th>7590</th>\n",
       "      <td>7558</td>\n",
       "      <td>11006</td>\n",
       "      <td>38461703</td>\n",
       "      <td>2O16486</td>\n",
       "      <td>L</td>\n",
       "      <td>CC</td>\n",
       "      <td>100</td>\n",
       "      <td>2</td>\n",
       "      <td>/gpfs/data/huo-lab/Image/ojomoleye/projects/mi...</td>\n",
       "      <td>test</td>\n",
       "      <td>...</td>\n",
       "      <td>NaN</td>\n",
       "      <td>NaN</td>\n",
       "      <td>NaN</td>\n",
       "      <td>NaN</td>\n",
       "      <td>NaN</td>\n",
       "      <td>NaN</td>\n",
       "      <td>NaN</td>\n",
       "      <td>NaN</td>\n",
       "      <td>NaN</td>\n",
       "      <td>left_only</td>\n",
       "    </tr>\n",
       "    <tr>\n",
       "      <th>7591</th>\n",
       "      <td>7559</td>\n",
       "      <td>11009</td>\n",
       "      <td>16703744</td>\n",
       "      <td>2O04481</td>\n",
       "      <td>L</td>\n",
       "      <td>CC</td>\n",
       "      <td>100</td>\n",
       "      <td>11</td>\n",
       "      <td>/gpfs/data/huo-lab/Image/ojomoleye/projects/mi...</td>\n",
       "      <td>test</td>\n",
       "      <td>...</td>\n",
       "      <td>NaN</td>\n",
       "      <td>NaN</td>\n",
       "      <td>NaN</td>\n",
       "      <td>NaN</td>\n",
       "      <td>NaN</td>\n",
       "      <td>NaN</td>\n",
       "      <td>NaN</td>\n",
       "      <td>NaN</td>\n",
       "      <td>NaN</td>\n",
       "      <td>left_only</td>\n",
       "    </tr>\n",
       "  </tbody>\n",
       "</table>\n",
       "<p>7592 rows × 2086 columns</p>\n",
       "</div>"
      ],
      "text/plain": [
       "      Unnamed: 0  Unnamed: 0.1  patient_id  exam_id laterality_x view  \\\n",
       "0              0             0    58982377  2O10729            L   CC   \n",
       "1              1             1    58982377  2O10729            R  MLO   \n",
       "2              2             2    58982377  2O10729            R  MLO   \n",
       "3              3             3    58982377  2O10729            R   CC   \n",
       "4              4             4    58982377  2O10729            R   CC   \n",
       "...          ...           ...         ...      ...          ...  ...   \n",
       "7587        7555         11003    38461703  2O16486            L  MLO   \n",
       "7588        7556         11004    38461703  2O16486            R  MLO   \n",
       "7589        7557         11005    38461703  2O16486            R   CC   \n",
       "7590        7558         11006    38461703  2O16486            L   CC   \n",
       "7591        7559         11009    16703744  2O04481            L   CC   \n",
       "\n",
       "      years_to_cancer  years_to_last_followup  \\\n",
       "0                 100                       4   \n",
       "1                 100                       4   \n",
       "2                 100                       4   \n",
       "3                 100                       4   \n",
       "4                 100                       4   \n",
       "...               ...                     ...   \n",
       "7587              100                       2   \n",
       "7588              100                       2   \n",
       "7589              100                       2   \n",
       "7590              100                       2   \n",
       "7591              100                      11   \n",
       "\n",
       "                                              file_path split_group  ...  \\\n",
       "0     /gpfs/data/huo-lab/Image/ojomoleye/projects/mi...        test  ...   \n",
       "1     /gpfs/data/huo-lab/Image/ojomoleye/projects/mi...        test  ...   \n",
       "2     /gpfs/data/huo-lab/Image/ojomoleye/projects/mi...        test  ...   \n",
       "3     /gpfs/data/huo-lab/Image/ojomoleye/projects/mi...        test  ...   \n",
       "4     /gpfs/data/huo-lab/Image/ojomoleye/projects/mi...        test  ...   \n",
       "...                                                 ...         ...  ...   \n",
       "7587  /gpfs/data/huo-lab/Image/ojomoleye/projects/mi...        test  ...   \n",
       "7588  /gpfs/data/huo-lab/Image/ojomoleye/projects/mi...        test  ...   \n",
       "7589  /gpfs/data/huo-lab/Image/ojomoleye/projects/mi...        test  ...   \n",
       "7590  /gpfs/data/huo-lab/Image/ojomoleye/projects/mi...        test  ...   \n",
       "7591  /gpfs/data/huo-lab/Image/ojomoleye/projects/mi...        test  ...   \n",
       "\n",
       "      uncle_half_pat_cancer_type___6 uncle_half_pat_cancer_type___5  \\\n",
       "0                                NaN                            NaN   \n",
       "1                                NaN                            NaN   \n",
       "2                                NaN                            NaN   \n",
       "3                                NaN                            NaN   \n",
       "4                                NaN                            NaN   \n",
       "...                              ...                            ...   \n",
       "7587                             NaN                            NaN   \n",
       "7588                             NaN                            NaN   \n",
       "7589                             NaN                            NaN   \n",
       "7590                             NaN                            NaN   \n",
       "7591                             NaN                            NaN   \n",
       "\n",
       "     uncle_half_pat_cancer_type___10 uncle_half_pat_cancer_type___7  \\\n",
       "0                                NaN                            NaN   \n",
       "1                                NaN                            NaN   \n",
       "2                                NaN                            NaN   \n",
       "3                                NaN                            NaN   \n",
       "4                                NaN                            NaN   \n",
       "...                              ...                            ...   \n",
       "7587                             NaN                            NaN   \n",
       "7588                             NaN                            NaN   \n",
       "7589                             NaN                            NaN   \n",
       "7590                             NaN                            NaN   \n",
       "7591                             NaN                            NaN   \n",
       "\n",
       "     uncle_half_pat_cancer_type___8 uncle_half_pat_cancer_type___9  \\\n",
       "0                               NaN                            NaN   \n",
       "1                               NaN                            NaN   \n",
       "2                               NaN                            NaN   \n",
       "3                               NaN                            NaN   \n",
       "4                               NaN                            NaN   \n",
       "...                             ...                            ...   \n",
       "7587                            NaN                            NaN   \n",
       "7588                            NaN                            NaN   \n",
       "7589                            NaN                            NaN   \n",
       "7590                            NaN                            NaN   \n",
       "7591                            NaN                            NaN   \n",
       "\n",
       "     uncle_half_pat_cancer_age cancer_risk_survey_complete study_id_y  \\\n",
       "0                          NaN                         NaN        NaN   \n",
       "1                          NaN                         NaN        NaN   \n",
       "2                          NaN                         NaN        NaN   \n",
       "3                          NaN                         NaN        NaN   \n",
       "4                          NaN                         NaN        NaN   \n",
       "...                        ...                         ...        ...   \n",
       "7587                       NaN                         NaN        NaN   \n",
       "7588                       NaN                         NaN        NaN   \n",
       "7589                       NaN                         NaN        NaN   \n",
       "7590                       NaN                         NaN        NaN   \n",
       "7591                       NaN                         NaN        NaN   \n",
       "\n",
       "         _merge  \n",
       "0     left_only  \n",
       "1     left_only  \n",
       "2     left_only  \n",
       "3     left_only  \n",
       "4     left_only  \n",
       "...         ...  \n",
       "7587  left_only  \n",
       "7588  left_only  \n",
       "7589  left_only  \n",
       "7590  left_only  \n",
       "7591  left_only  \n",
       "\n",
       "[7592 rows x 2086 columns]"
      ]
     },
     "execution_count": 32,
     "metadata": {},
     "output_type": "execute_result"
    }
   ],
   "source": [
    "mirai_loaded"
   ]
  },
  {
   "cell_type": "code",
   "execution_count": 34,
   "metadata": {},
   "outputs": [
    {
     "name": "stdout",
     "output_type": "stream",
     "text": [
      " of 416 patients in mirai input set, 12 match with SPORE registration data which contains 6369 patients\n"
     ]
    }
   ],
   "source": [
    "print(\n",
    "    \" of {} patients in mirai input set, {} match with SPORE registration data which contains {} patients\".format(\n",
    "        mirai_loaded.patient_id.nunique(),\n",
    "        mirai_loaded[mirai_loaded._merge == \"both\"].patient_id.nunique(),\n",
    "        spore_registration.mrn.nunique(),\n",
    "    )\n",
    ")"
   ]
  },
  {
   "cell_type": "code",
   "execution_count": 75,
   "metadata": {},
   "outputs": [],
   "source": [
    "data_path = \"/gpfs/data/phs/groups/Projects/Huo_projects/SPORE/ojomoleye/data/CRDW_Registry_IndexDx_2020_Jul23.csv\"\n",
    "data = pd.read_csv(data_path)\n",
    "\n",
    "metadata_path = \"/gpfs/data/huo-lab/Image/ojomoleye/projects/mirai_validation/chimec_mammo_retry.csv\"  # output of filter_and_convert.py script\n",
    "metadata = pd.read_csv(metadata_path)\n",
    "\n",
    "mrn_to_study_id = pd.read_csv(\n",
    "    \"/gpfs/data/phs/groups/Projects/Huo_projects/SPORE/ojomoleye/data/mrn_to_study_id.csv\",\n",
    "    names=[\"mrn\", \"study_id\"],\n",
    ")\n",
    "mirai_loaded = pd.read_csv(\n",
    "    \"/gpfs/data/huo-lab/Image/ojomoleye/projects/mirai_validation/mirai_chimec_all.csv\"\n",
    ")\n",
    "downloaded_images = pd.read_pickle(\n",
    "    \"/gpfs/data/phs/groups/Projects/Huo_projects/SPORE/ojomoleye/data/downloaded_imaging_metadata.pkl\"\n",
    ")\n",
    "mirai_output = pd.read_csv(\n",
    "    \"/gpfs/data/huo-lab/Image/ojomoleye/projects/mirai_validation/data/interim_full_validation_output.csv\"\n",
    ")\n",
    "cases_and_controls = pd.read_csv(\n",
    "    \"/gpfs/data/phs/groups/Projects/Huo_projects/SPORE/ojomoleye/data/dr_7934_pats.txt\",\n",
    "    sep=\"|\",\n",
    ")\n",
    "\n",
    "spore_registration = pd.read_csv(\n",
    "    \"/gpfs/data/phs/groups/Projects/Huo_projects/SPORE/ojomoleye/data/SPORERegistrationDat_DATA_2021-06-21_0927.csv\"\n",
    ")"
   ]
  },
  {
   "cell_type": "code",
   "execution_count": 76,
   "metadata": {},
   "outputs": [],
   "source": [
    "mirai_output[\"patient_id\"] = mirai_output[\"patient_exam_id\"].apply(\n",
    "    lambda x: x.split(\"\\t\")[0]\n",
    ")"
   ]
  },
  {
   "cell_type": "code",
   "execution_count": 77,
   "metadata": {},
   "outputs": [],
   "source": [
    "mirai_output[\"study_id\"] = mirai_output[\"patient_id\"]\n",
    "mirai_output[\"study_id\"] = mirai_output[\"study_id\"].astype(\"float\").astype(\"Int64\")"
   ]
  },
  {
   "cell_type": "code",
   "execution_count": 79,
   "metadata": {},
   "outputs": [],
   "source": [
    "mirai_output = mirai_output.merge(metadata, how=\"left\", on=\"study_id\", indicator=True)"
   ]
  },
  {
   "cell_type": "code",
   "execution_count": 85,
   "metadata": {},
   "outputs": [],
   "source": [
    "mirai_output = mirai_output[~pd.isnull(mirai_output.patient_exam_id)]"
   ]
  },
  {
   "cell_type": "code",
   "execution_count": 93,
   "metadata": {},
   "outputs": [
    {
     "data": {
      "text/plain": [
       "346"
      ]
     },
     "execution_count": 93,
     "metadata": {},
     "output_type": "execute_result"
    }
   ],
   "source": [
    "mirai_output[mirai_output.case == False].patient_id.nunique()"
   ]
  },
  {
   "cell_type": "code",
   "execution_count": 96,
   "metadata": {},
   "outputs": [],
   "source": [
    "cases = mirai_output[mirai_output.case == True]"
   ]
  },
  {
   "cell_type": "code",
   "execution_count": 100,
   "metadata": {},
   "outputs": [
    {
     "data": {
      "text/html": [
       "<div>\n",
       "<style scoped>\n",
       "    .dataframe tbody tr th:only-of-type {\n",
       "        vertical-align: middle;\n",
       "    }\n",
       "\n",
       "    .dataframe tbody tr th {\n",
       "        vertical-align: top;\n",
       "    }\n",
       "\n",
       "    .dataframe thead th {\n",
       "        text-align: right;\n",
       "    }\n",
       "</style>\n",
       "<table border=\"1\" class=\"dataframe\">\n",
       "  <thead>\n",
       "    <tr style=\"text-align: right;\">\n",
       "      <th></th>\n",
       "      <th>patient_exam_id</th>\n",
       "      <th>1_year_risk</th>\n",
       "      <th>2_year_risk</th>\n",
       "      <th>3_year_risk</th>\n",
       "      <th>4_year_risk</th>\n",
       "      <th>5_year_risk</th>\n",
       "      <th>patient_id</th>\n",
       "      <th>study_id</th>\n",
       "      <th>Unnamed: 0</th>\n",
       "      <th>AccessionNumber</th>\n",
       "      <th>...</th>\n",
       "      <th>IssuerOfPatientIDQualifiersSequence</th>\n",
       "      <th>PatientReligiousPreference</th>\n",
       "      <th>PatientPosition</th>\n",
       "      <th>AcquisitionComments</th>\n",
       "      <th>DataSetSubtype</th>\n",
       "      <th>DataSetType</th>\n",
       "      <th>ScheduledProcedureStepID</th>\n",
       "      <th>MilitaryRank</th>\n",
       "      <th>EntranceDoseDerivation</th>\n",
       "      <th>_merge</th>\n",
       "    </tr>\n",
       "  </thead>\n",
       "  <tbody>\n",
       "    <tr>\n",
       "      <th>0</th>\n",
       "      <td>58982377\\t2O10729</td>\n",
       "      <td>0.024250</td>\n",
       "      <td>0.036742</td>\n",
       "      <td>0.046101</td>\n",
       "      <td>0.054766</td>\n",
       "      <td>0.062453</td>\n",
       "      <td>58982377</td>\n",
       "      <td>58982377</td>\n",
       "      <td>0</td>\n",
       "      <td>2O10730</td>\n",
       "      <td>...</td>\n",
       "      <td>NaN</td>\n",
       "      <td>NaN</td>\n",
       "      <td>NaN</td>\n",
       "      <td>NaN</td>\n",
       "      <td>NaN</td>\n",
       "      <td>NaN</td>\n",
       "      <td>NaN</td>\n",
       "      <td>NaN</td>\n",
       "      <td>NaN</td>\n",
       "      <td>both</td>\n",
       "    </tr>\n",
       "    <tr>\n",
       "      <th>1</th>\n",
       "      <td>58982377\\t2O10729</td>\n",
       "      <td>0.024250</td>\n",
       "      <td>0.036742</td>\n",
       "      <td>0.046101</td>\n",
       "      <td>0.054766</td>\n",
       "      <td>0.062453</td>\n",
       "      <td>58982377</td>\n",
       "      <td>58982377</td>\n",
       "      <td>1</td>\n",
       "      <td>2O10730</td>\n",
       "      <td>...</td>\n",
       "      <td>NaN</td>\n",
       "      <td>NaN</td>\n",
       "      <td>NaN</td>\n",
       "      <td>NaN</td>\n",
       "      <td>NaN</td>\n",
       "      <td>NaN</td>\n",
       "      <td>NaN</td>\n",
       "      <td>NaN</td>\n",
       "      <td>NaN</td>\n",
       "      <td>both</td>\n",
       "    </tr>\n",
       "    <tr>\n",
       "      <th>2</th>\n",
       "      <td>58982377\\t2O10729</td>\n",
       "      <td>0.024250</td>\n",
       "      <td>0.036742</td>\n",
       "      <td>0.046101</td>\n",
       "      <td>0.054766</td>\n",
       "      <td>0.062453</td>\n",
       "      <td>58982377</td>\n",
       "      <td>58982377</td>\n",
       "      <td>8</td>\n",
       "      <td>2O10729</td>\n",
       "      <td>...</td>\n",
       "      <td>NaN</td>\n",
       "      <td>NaN</td>\n",
       "      <td>NaN</td>\n",
       "      <td>NaN</td>\n",
       "      <td>NaN</td>\n",
       "      <td>NaN</td>\n",
       "      <td>NaN</td>\n",
       "      <td>NaN</td>\n",
       "      <td>NaN</td>\n",
       "      <td>both</td>\n",
       "    </tr>\n",
       "    <tr>\n",
       "      <th>3</th>\n",
       "      <td>58982377\\t2O10729</td>\n",
       "      <td>0.024250</td>\n",
       "      <td>0.036742</td>\n",
       "      <td>0.046101</td>\n",
       "      <td>0.054766</td>\n",
       "      <td>0.062453</td>\n",
       "      <td>58982377</td>\n",
       "      <td>58982377</td>\n",
       "      <td>9</td>\n",
       "      <td>2O10729</td>\n",
       "      <td>...</td>\n",
       "      <td>NaN</td>\n",
       "      <td>NaN</td>\n",
       "      <td>NaN</td>\n",
       "      <td>NaN</td>\n",
       "      <td>NaN</td>\n",
       "      <td>NaN</td>\n",
       "      <td>NaN</td>\n",
       "      <td>NaN</td>\n",
       "      <td>NaN</td>\n",
       "      <td>both</td>\n",
       "    </tr>\n",
       "    <tr>\n",
       "      <th>4</th>\n",
       "      <td>58982377\\t2O10729</td>\n",
       "      <td>0.024250</td>\n",
       "      <td>0.036742</td>\n",
       "      <td>0.046101</td>\n",
       "      <td>0.054766</td>\n",
       "      <td>0.062453</td>\n",
       "      <td>58982377</td>\n",
       "      <td>58982377</td>\n",
       "      <td>10</td>\n",
       "      <td>2O10729</td>\n",
       "      <td>...</td>\n",
       "      <td>NaN</td>\n",
       "      <td>NaN</td>\n",
       "      <td>NaN</td>\n",
       "      <td>NaN</td>\n",
       "      <td>NaN</td>\n",
       "      <td>NaN</td>\n",
       "      <td>NaN</td>\n",
       "      <td>NaN</td>\n",
       "      <td>NaN</td>\n",
       "      <td>both</td>\n",
       "    </tr>\n",
       "    <tr>\n",
       "      <th>...</th>\n",
       "      <td>...</td>\n",
       "      <td>...</td>\n",
       "      <td>...</td>\n",
       "      <td>...</td>\n",
       "      <td>...</td>\n",
       "      <td>...</td>\n",
       "      <td>...</td>\n",
       "      <td>...</td>\n",
       "      <td>...</td>\n",
       "      <td>...</td>\n",
       "      <td>...</td>\n",
       "      <td>...</td>\n",
       "      <td>...</td>\n",
       "      <td>...</td>\n",
       "      <td>...</td>\n",
       "      <td>...</td>\n",
       "      <td>...</td>\n",
       "      <td>...</td>\n",
       "      <td>...</td>\n",
       "      <td>...</td>\n",
       "      <td>...</td>\n",
       "    </tr>\n",
       "    <tr>\n",
       "      <th>43654</th>\n",
       "      <td>38461703\\t2O16486</td>\n",
       "      <td>0.065335</td>\n",
       "      <td>0.090567</td>\n",
       "      <td>0.098347</td>\n",
       "      <td>0.118459</td>\n",
       "      <td>0.125670</td>\n",
       "      <td>38461703</td>\n",
       "      <td>38461703</td>\n",
       "      <td>11004</td>\n",
       "      <td>2O07053</td>\n",
       "      <td>...</td>\n",
       "      <td>NaN</td>\n",
       "      <td>NaN</td>\n",
       "      <td>NaN</td>\n",
       "      <td>NaN</td>\n",
       "      <td>NaN</td>\n",
       "      <td>NaN</td>\n",
       "      <td>NaN</td>\n",
       "      <td>NaN</td>\n",
       "      <td>NaN</td>\n",
       "      <td>both</td>\n",
       "    </tr>\n",
       "    <tr>\n",
       "      <th>43655</th>\n",
       "      <td>38461703\\t2O16486</td>\n",
       "      <td>0.065335</td>\n",
       "      <td>0.090567</td>\n",
       "      <td>0.098347</td>\n",
       "      <td>0.118459</td>\n",
       "      <td>0.125670</td>\n",
       "      <td>38461703</td>\n",
       "      <td>38461703</td>\n",
       "      <td>11005</td>\n",
       "      <td>2O07053</td>\n",
       "      <td>...</td>\n",
       "      <td>NaN</td>\n",
       "      <td>NaN</td>\n",
       "      <td>NaN</td>\n",
       "      <td>NaN</td>\n",
       "      <td>NaN</td>\n",
       "      <td>NaN</td>\n",
       "      <td>NaN</td>\n",
       "      <td>NaN</td>\n",
       "      <td>NaN</td>\n",
       "      <td>both</td>\n",
       "    </tr>\n",
       "    <tr>\n",
       "      <th>43656</th>\n",
       "      <td>38461703\\t2O16486</td>\n",
       "      <td>0.065335</td>\n",
       "      <td>0.090567</td>\n",
       "      <td>0.098347</td>\n",
       "      <td>0.118459</td>\n",
       "      <td>0.125670</td>\n",
       "      <td>38461703</td>\n",
       "      <td>38461703</td>\n",
       "      <td>11006</td>\n",
       "      <td>2O07053</td>\n",
       "      <td>...</td>\n",
       "      <td>NaN</td>\n",
       "      <td>NaN</td>\n",
       "      <td>NaN</td>\n",
       "      <td>NaN</td>\n",
       "      <td>NaN</td>\n",
       "      <td>NaN</td>\n",
       "      <td>NaN</td>\n",
       "      <td>NaN</td>\n",
       "      <td>NaN</td>\n",
       "      <td>both</td>\n",
       "    </tr>\n",
       "    <tr>\n",
       "      <th>43657</th>\n",
       "      <td>38461703\\t2O16486</td>\n",
       "      <td>0.065335</td>\n",
       "      <td>0.090567</td>\n",
       "      <td>0.098347</td>\n",
       "      <td>0.118459</td>\n",
       "      <td>0.125670</td>\n",
       "      <td>38461703</td>\n",
       "      <td>38461703</td>\n",
       "      <td>11007</td>\n",
       "      <td>2O07054</td>\n",
       "      <td>...</td>\n",
       "      <td>NaN</td>\n",
       "      <td>NaN</td>\n",
       "      <td>NaN</td>\n",
       "      <td>NaN</td>\n",
       "      <td>NaN</td>\n",
       "      <td>NaN</td>\n",
       "      <td>NaN</td>\n",
       "      <td>NaN</td>\n",
       "      <td>NaN</td>\n",
       "      <td>both</td>\n",
       "    </tr>\n",
       "    <tr>\n",
       "      <th>43658</th>\n",
       "      <td>38461703\\t2O16486</td>\n",
       "      <td>0.065335</td>\n",
       "      <td>0.090567</td>\n",
       "      <td>0.098347</td>\n",
       "      <td>0.118459</td>\n",
       "      <td>0.125670</td>\n",
       "      <td>38461703</td>\n",
       "      <td>38461703</td>\n",
       "      <td>11008</td>\n",
       "      <td>2O07054</td>\n",
       "      <td>...</td>\n",
       "      <td>NaN</td>\n",
       "      <td>NaN</td>\n",
       "      <td>NaN</td>\n",
       "      <td>NaN</td>\n",
       "      <td>NaN</td>\n",
       "      <td>NaN</td>\n",
       "      <td>NaN</td>\n",
       "      <td>NaN</td>\n",
       "      <td>NaN</td>\n",
       "      <td>both</td>\n",
       "    </tr>\n",
       "  </tbody>\n",
       "</table>\n",
       "<p>43659 rows × 312 columns</p>\n",
       "</div>"
      ],
      "text/plain": [
       "         patient_exam_id  1_year_risk  2_year_risk  3_year_risk  4_year_risk  \\\n",
       "0      58982377\\t2O10729     0.024250     0.036742     0.046101     0.054766   \n",
       "1      58982377\\t2O10729     0.024250     0.036742     0.046101     0.054766   \n",
       "2      58982377\\t2O10729     0.024250     0.036742     0.046101     0.054766   \n",
       "3      58982377\\t2O10729     0.024250     0.036742     0.046101     0.054766   \n",
       "4      58982377\\t2O10729     0.024250     0.036742     0.046101     0.054766   \n",
       "...                  ...          ...          ...          ...          ...   \n",
       "43654  38461703\\t2O16486     0.065335     0.090567     0.098347     0.118459   \n",
       "43655  38461703\\t2O16486     0.065335     0.090567     0.098347     0.118459   \n",
       "43656  38461703\\t2O16486     0.065335     0.090567     0.098347     0.118459   \n",
       "43657  38461703\\t2O16486     0.065335     0.090567     0.098347     0.118459   \n",
       "43658  38461703\\t2O16486     0.065335     0.090567     0.098347     0.118459   \n",
       "\n",
       "       5_year_risk patient_id  study_id  Unnamed: 0 AccessionNumber  ...  \\\n",
       "0         0.062453   58982377  58982377           0         2O10730  ...   \n",
       "1         0.062453   58982377  58982377           1         2O10730  ...   \n",
       "2         0.062453   58982377  58982377           8         2O10729  ...   \n",
       "3         0.062453   58982377  58982377           9         2O10729  ...   \n",
       "4         0.062453   58982377  58982377          10         2O10729  ...   \n",
       "...            ...        ...       ...         ...             ...  ...   \n",
       "43654     0.125670   38461703  38461703       11004         2O07053  ...   \n",
       "43655     0.125670   38461703  38461703       11005         2O07053  ...   \n",
       "43656     0.125670   38461703  38461703       11006         2O07053  ...   \n",
       "43657     0.125670   38461703  38461703       11007         2O07054  ...   \n",
       "43658     0.125670   38461703  38461703       11008         2O07054  ...   \n",
       "\n",
       "      IssuerOfPatientIDQualifiersSequence  PatientReligiousPreference  \\\n",
       "0                                     NaN                         NaN   \n",
       "1                                     NaN                         NaN   \n",
       "2                                     NaN                         NaN   \n",
       "3                                     NaN                         NaN   \n",
       "4                                     NaN                         NaN   \n",
       "...                                   ...                         ...   \n",
       "43654                                 NaN                         NaN   \n",
       "43655                                 NaN                         NaN   \n",
       "43656                                 NaN                         NaN   \n",
       "43657                                 NaN                         NaN   \n",
       "43658                                 NaN                         NaN   \n",
       "\n",
       "      PatientPosition AcquisitionComments DataSetSubtype  DataSetType  \\\n",
       "0                 NaN                 NaN            NaN          NaN   \n",
       "1                 NaN                 NaN            NaN          NaN   \n",
       "2                 NaN                 NaN            NaN          NaN   \n",
       "3                 NaN                 NaN            NaN          NaN   \n",
       "4                 NaN                 NaN            NaN          NaN   \n",
       "...               ...                 ...            ...          ...   \n",
       "43654             NaN                 NaN            NaN          NaN   \n",
       "43655             NaN                 NaN            NaN          NaN   \n",
       "43656             NaN                 NaN            NaN          NaN   \n",
       "43657             NaN                 NaN            NaN          NaN   \n",
       "43658             NaN                 NaN            NaN          NaN   \n",
       "\n",
       "      ScheduledProcedureStepID MilitaryRank  EntranceDoseDerivation _merge  \n",
       "0                          NaN          NaN                     NaN   both  \n",
       "1                          NaN          NaN                     NaN   both  \n",
       "2                          NaN          NaN                     NaN   both  \n",
       "3                          NaN          NaN                     NaN   both  \n",
       "4                          NaN          NaN                     NaN   both  \n",
       "...                        ...          ...                     ...    ...  \n",
       "43654                      NaN          NaN                     NaN   both  \n",
       "43655                      NaN          NaN                     NaN   both  \n",
       "43656                      NaN          NaN                     NaN   both  \n",
       "43657                      NaN          NaN                     NaN   both  \n",
       "43658                      NaN          NaN                     NaN   both  \n",
       "\n",
       "[43659 rows x 312 columns]"
      ]
     },
     "execution_count": 100,
     "metadata": {},
     "output_type": "execute_result"
    }
   ],
   "source": [
    "mirai_output"
   ]
  },
  {
   "cell_type": "code",
   "execution_count": null,
   "metadata": {},
   "outputs": [],
   "source": []
  }
 ],
 "metadata": {
  "interpreter": {
   "hash": "8e3ff1b4c948ea418335793fce176ee611084ce7097f08d053960b24b6a67249"
  },
  "kernelspec": {
   "display_name": "Python 3.9.5 64-bit ('mirai': conda)",
   "language": "python",
   "name": "python3"
  },
  "language_info": {
   "codemirror_mode": {
    "name": "ipython",
    "version": 3
   },
   "file_extension": ".py",
   "mimetype": "text/x-python",
   "name": "python",
   "nbconvert_exporter": "python",
   "pygments_lexer": "ipython3",
   "version": "3.8.12"
  },
  "orig_nbformat": 4
 },
 "nbformat": 4,
 "nbformat_minor": 2
}
