{
 "cells": [
  {
   "cell_type": "code",
   "execution_count": 1,
   "source": [
    "%load_ext lab_black\n",
    "%matplotlib inline\n",
    "import warnings\n",
    "\n",
    "import matplotlib.pyplot as plt\n",
    "import numpy as np\n",
    "import pandas as pd\n",
    "import seaborn as sns\n",
    "import tabulate\n",
    "\n",
    "warnings.filterwarnings(\"ignore\")"
   ],
   "outputs": [
    {
     "output_type": "stream",
     "name": "stdout",
     "text": [
      "The history saving thread hit an unexpected error (OperationalError('disk I/O error')).History will not be written to the database.\n"
     ]
    }
   ],
   "metadata": {}
  },
  {
   "cell_type": "code",
   "execution_count": 2,
   "source": [
    "cases_and_controls = pd.read_csv(\n",
    "    \"/gpfs/data/phs/groups/Projects/Huo_projects/SPORE/ojomoleye/data/dr_7934_pats.txt\",\n",
    "    sep=\"|\",\n",
    ")"
   ],
   "outputs": [],
   "metadata": {}
  },
  {
   "cell_type": "code",
   "execution_count": 3,
   "source": [
    "metadata_path = \"/gpfs/data/huo-lab/Image/ojomoleye/projects/mirai_validation/chimec_mammo_retry.csv\"  # output of filter_and_convert.py script\n",
    "metadata = pd.read_csv(metadata_path)\n",
    "print(\"loaded {} cases\".format(metadata[metadata.case == True].study_id.nunique()))\n",
    "print(\"loaded {} controls\".format(metadata[metadata.case == False].study_id.nunique()))\n",
    "print(\"loaded {} exams\".format(metadata.exam_id.nunique()))"
   ],
   "outputs": [
    {
     "output_type": "stream",
     "name": "stdout",
     "text": [
      "loaded 191 cases\n",
      "loaded 1839 controls\n",
      "loaded 12192 exams\n"
     ]
    }
   ],
   "metadata": {}
  },
  {
   "cell_type": "code",
   "execution_count": 4,
   "source": [
    "df = pd.DataFrame(metadata)\n",
    "# selecting columns to keep\n",
    "columns_to_keep = [\n",
    "    \"study_id\",\n",
    "    \"exam_id\",\n",
    "    \"BurnedInAnnotation\",\n",
    "    \"PresentationIntentType\",\n",
    "    \"BreastImplantPresent\",\n",
    "    \"ContentDate\",\n",
    "    \"ContentTime\",\n",
    "    \"ImageType\",\n",
    "    \"Laterality\",\n",
    "    \"Modality\",\n",
    "    \"PatientName\",\n",
    "    \"SeriesDescription\",\n",
    "    \"ImageLaterality\",\n",
    "    \"ViewPosition\",\n",
    "    \"ProtocolName\",\n",
    "    \"Study DateTime\",\n",
    "    \"DNA_available\",\n",
    "    \"time_since_exam\",\n",
    "    \"case\",\n",
    "    \"date_dx\",\n",
    "    \"dx_time_after_exam\",\n",
    "    \"dx_years_after_exam\",\n",
    "    \"date_of_last_contact\",\n",
    "    \"follow_up_time\",\n",
    "    \"follow_up_years\",\n",
    "    \"dicom_path\",\n",
    "    \"png_path\",\n",
    "]\n",
    "df_slim = df[columns_to_keep]\n",
    "pd.set_option(\"display.max_colwidth\", None)  # see max column width\n",
    "len(df)"
   ],
   "outputs": [
    {
     "output_type": "execute_result",
     "data": {
      "text/plain": [
       "54535"
      ]
     },
     "metadata": {},
     "execution_count": 4
    }
   ],
   "metadata": {}
  },
  {
   "cell_type": "code",
   "execution_count": 5,
   "source": [
    "df_slim.BreastImplantPresent.value_counts(dropna=False)\n",
    "df_slim.BurnedInAnnotation.value_counts(dropna=False)\n",
    "# just found out I didn't consider missing when filtering out based on breast implant present"
   ],
   "outputs": [
    {
     "output_type": "execute_result",
     "data": {
      "text/plain": [
       "NO     50834\n",
       "YES     3701\n",
       "Name: BurnedInAnnotation, dtype: int64"
      ]
     },
     "metadata": {},
     "execution_count": 5
    }
   ],
   "metadata": {}
  },
  {
   "cell_type": "code",
   "execution_count": 6,
   "source": [
    "print(\n",
    "    \"filtering out {} dicoms with burned in annotations\".format(\n",
    "        len(df_slim[df_slim.BurnedInAnnotation != \"NO\"])\n",
    "    )\n",
    ")\n",
    "print(\n",
    "    \"filtering out {} dicoms with breast implants\".format(\n",
    "        len(df_slim[df_slim.BreastImplantPresent == \"YES\"])\n",
    "    )\n",
    ")"
   ],
   "outputs": [
    {
     "output_type": "stream",
     "name": "stdout",
     "text": [
      "filtering out 3701 dicoms with burned in annotations\n",
      "filtering out 565 dicoms with breast implants\n"
     ]
    }
   ],
   "metadata": {}
  },
  {
   "cell_type": "code",
   "execution_count": 7,
   "source": [
    "df_slim = df_slim[df_slim.BurnedInAnnotation == \"NO\"]  # filtering based on annotations\n",
    "df_slim = df_slim[\n",
    "    df_slim.BreastImplantPresent != \"YES\"\n",
    "]  # filter out patients with breast implants\n",
    "\n",
    "df_slim.exam_id.nunique()\n",
    "len(df_slim)"
   ],
   "outputs": [
    {
     "output_type": "execute_result",
     "data": {
      "text/plain": [
       "50270"
      ]
     },
     "metadata": {},
     "execution_count": 7
    }
   ],
   "metadata": {}
  },
  {
   "cell_type": "code",
   "execution_count": 8,
   "source": [
    "df_slim\n",
    "# filter based on path existence:\n",
    "df_slim[\"path_exists\"] = df_slim[\"png_path\"].apply(lambda x: os.path.isfile(x))\n",
    "df_slim = df_slim[df_slim.path_exists == True]\n",
    "len(df_slim)"
   ],
   "outputs": [
    {
     "output_type": "execute_result",
     "data": {
      "text/plain": [
       "33927"
      ]
     },
     "metadata": {},
     "execution_count": 8
    }
   ],
   "metadata": {}
  },
  {
   "cell_type": "code",
   "execution_count": 5,
   "source": [
    "data_path = \"/gpfs/data/phs/groups/Projects/Huo_projects/SPORE/ojomoleye/data/CRDW_Registry_IndexDx_2020_Jul23.csv\"\n",
    "data = pd.read_csv(data_path)\n",
    "data_path2 = \"/gpfs/data/phs/groups/Projects/Huo_projects/SPORE/ojomoleye/data/SPORE/CRDW_Registry_IndexDx_2021Mar18_update2021July27.dta\"\n",
    "data2 = pd.read_stata(data_path2)\n",
    "pat = pd.DataFrame(data)\n"
   ],
   "outputs": [],
   "metadata": {}
  },
  {
   "cell_type": "code",
   "execution_count": 6,
   "source": [
    "data2"
   ],
   "outputs": [
    {
     "output_type": "execute_result",
     "data": {
      "text/plain": [
       "     spore_id        mrn     IRB        dob date_1stEnrol       sex  \\\n",
       "0                75716.0  16352A 1933-01-24    2008-11-24  2 Female   \n",
       "1               129163.0  16352A 1935-06-03    2009-07-07  2 Female   \n",
       "2               139661.0  16352A 1935-11-01    2009-04-17  2 Female   \n",
       "3               140022.0  16352A 1909-09-21    2010-02-16    1 Male   \n",
       "4               234188.0    8962 1940-01-15    2005-05-20  2 Female   \n",
       "...       ...        ...     ...        ...           ...       ...   \n",
       "4582           3996277.0  16352A 1971-02-13    2020-10-08  2 Female   \n",
       "4583           3997329.0  16352A 1959-05-20    2020-10-15  2 Female   \n",
       "4584           4007940.0  16352A 1936-04-27    2020-10-15  2 Female   \n",
       "4585           4011707.0  16352A 1965-03-30    2020-10-14  2 Female   \n",
       "4586           4014519.0  16352A 1972-04-18    2020-11-09  2 Female   \n",
       "\n",
       "     raceethnic patient_first_name patient_middle_name patient_last_name  ...  \\\n",
       "0         White               Dena                                Kentes  ...   \n",
       "1         White           Patricia                               Jurkash  ...   \n",
       "2         White               Mary                                Thorpe  ...   \n",
       "3         White             Joseph                               Kirsner  ...   \n",
       "4         White            Roberta                                Siegel  ...   \n",
       "...         ...                ...                 ...               ...  ...   \n",
       "4582      White          Katherine                   A           Jackson  ...   \n",
       "4583      White             Lucyna                                 Cretu  ...   \n",
       "4584      White             Sharon                                Dillon  ...   \n",
       "4585      White           Marianne                                 Tolar  ...   \n",
       "4586      White           Jennifer                               Elliott  ...   \n",
       "\n",
       "                                      type1strecurrence dateRec typeRec  \\\n",
       "0     00 Patient became disease-free after treatment...     NaT     0.0   \n",
       "1     00 Patient became disease-free after treatment...     NaT     0.0   \n",
       "2     00 Patient became disease-free after treatment...     NaT     0.0   \n",
       "3     00 Patient became disease-free after treatment...     NaT     0.0   \n",
       "4     00 Patient became disease-free after treatment...     NaT     0.0   \n",
       "...                                                 ...     ...     ...   \n",
       "4582  00 Patient became disease-free after treatment...     NaT     0.0   \n",
       "4583  00 Patient became disease-free after treatment...     NaT     0.0   \n",
       "4584  00 Patient became disease-free after treatment...     NaT     0.0   \n",
       "4585  70 Since diagnosis, patient has never been dis...     NaT    70.0   \n",
       "4586  00 Patient became disease-free after treatment...     NaT     0.0   \n",
       "\n",
       "     typeRec1  recur year_recur  RFS   year_RFS Allevent year_event  \n",
       "0         0.0    0.0  16.476385  0.0  16.476385      0.0  16.476385  \n",
       "1         0.0    0.0  16.490076  1.0  16.490076      1.0  16.490076  \n",
       "2         0.0    0.0  11.958932  0.0  11.958932      0.0  11.958932  \n",
       "3         0.0    0.0   3.252567  1.0   3.252567      1.0   3.252567  \n",
       "4         0.0    0.0  14.286105  0.0  14.286105      0.0  14.286105  \n",
       "...       ...    ...        ...  ...        ...      ...        ...  \n",
       "4582      0.0    0.0   0.459959  0.0   0.459959      0.0   0.459959  \n",
       "4583      0.0    0.0   0.522929  0.0   0.522929      0.0   0.522929  \n",
       "4584      0.0    0.0   0.462697  0.0   0.462697      0.0   0.462697  \n",
       "4585     70.0    NaN        NaN  0.0   0.509240      0.0   0.509240  \n",
       "4586      0.0    0.0   0.468172  0.0   0.468172      0.0   0.468172  \n",
       "\n",
       "[4587 rows x 295 columns]"
      ],
      "text/html": [
       "<div>\n",
       "<style scoped>\n",
       "    .dataframe tbody tr th:only-of-type {\n",
       "        vertical-align: middle;\n",
       "    }\n",
       "\n",
       "    .dataframe tbody tr th {\n",
       "        vertical-align: top;\n",
       "    }\n",
       "\n",
       "    .dataframe thead th {\n",
       "        text-align: right;\n",
       "    }\n",
       "</style>\n",
       "<table border=\"1\" class=\"dataframe\">\n",
       "  <thead>\n",
       "    <tr style=\"text-align: right;\">\n",
       "      <th></th>\n",
       "      <th>spore_id</th>\n",
       "      <th>mrn</th>\n",
       "      <th>IRB</th>\n",
       "      <th>dob</th>\n",
       "      <th>date_1stEnrol</th>\n",
       "      <th>sex</th>\n",
       "      <th>raceethnic</th>\n",
       "      <th>patient_first_name</th>\n",
       "      <th>patient_middle_name</th>\n",
       "      <th>patient_last_name</th>\n",
       "      <th>...</th>\n",
       "      <th>type1strecurrence</th>\n",
       "      <th>dateRec</th>\n",
       "      <th>typeRec</th>\n",
       "      <th>typeRec1</th>\n",
       "      <th>recur</th>\n",
       "      <th>year_recur</th>\n",
       "      <th>RFS</th>\n",
       "      <th>year_RFS</th>\n",
       "      <th>Allevent</th>\n",
       "      <th>year_event</th>\n",
       "    </tr>\n",
       "  </thead>\n",
       "  <tbody>\n",
       "    <tr>\n",
       "      <th>0</th>\n",
       "      <td></td>\n",
       "      <td>75716.0</td>\n",
       "      <td>16352A</td>\n",
       "      <td>1933-01-24</td>\n",
       "      <td>2008-11-24</td>\n",
       "      <td>2 Female</td>\n",
       "      <td>White</td>\n",
       "      <td>Dena</td>\n",
       "      <td></td>\n",
       "      <td>Kentes</td>\n",
       "      <td>...</td>\n",
       "      <td>00 Patient became disease-free after treatment...</td>\n",
       "      <td>NaT</td>\n",
       "      <td>0.0</td>\n",
       "      <td>0.0</td>\n",
       "      <td>0.0</td>\n",
       "      <td>16.476385</td>\n",
       "      <td>0.0</td>\n",
       "      <td>16.476385</td>\n",
       "      <td>0.0</td>\n",
       "      <td>16.476385</td>\n",
       "    </tr>\n",
       "    <tr>\n",
       "      <th>1</th>\n",
       "      <td></td>\n",
       "      <td>129163.0</td>\n",
       "      <td>16352A</td>\n",
       "      <td>1935-06-03</td>\n",
       "      <td>2009-07-07</td>\n",
       "      <td>2 Female</td>\n",
       "      <td>White</td>\n",
       "      <td>Patricia</td>\n",
       "      <td></td>\n",
       "      <td>Jurkash</td>\n",
       "      <td>...</td>\n",
       "      <td>00 Patient became disease-free after treatment...</td>\n",
       "      <td>NaT</td>\n",
       "      <td>0.0</td>\n",
       "      <td>0.0</td>\n",
       "      <td>0.0</td>\n",
       "      <td>16.490076</td>\n",
       "      <td>1.0</td>\n",
       "      <td>16.490076</td>\n",
       "      <td>1.0</td>\n",
       "      <td>16.490076</td>\n",
       "    </tr>\n",
       "    <tr>\n",
       "      <th>2</th>\n",
       "      <td></td>\n",
       "      <td>139661.0</td>\n",
       "      <td>16352A</td>\n",
       "      <td>1935-11-01</td>\n",
       "      <td>2009-04-17</td>\n",
       "      <td>2 Female</td>\n",
       "      <td>White</td>\n",
       "      <td>Mary</td>\n",
       "      <td></td>\n",
       "      <td>Thorpe</td>\n",
       "      <td>...</td>\n",
       "      <td>00 Patient became disease-free after treatment...</td>\n",
       "      <td>NaT</td>\n",
       "      <td>0.0</td>\n",
       "      <td>0.0</td>\n",
       "      <td>0.0</td>\n",
       "      <td>11.958932</td>\n",
       "      <td>0.0</td>\n",
       "      <td>11.958932</td>\n",
       "      <td>0.0</td>\n",
       "      <td>11.958932</td>\n",
       "    </tr>\n",
       "    <tr>\n",
       "      <th>3</th>\n",
       "      <td></td>\n",
       "      <td>140022.0</td>\n",
       "      <td>16352A</td>\n",
       "      <td>1909-09-21</td>\n",
       "      <td>2010-02-16</td>\n",
       "      <td>1 Male</td>\n",
       "      <td>White</td>\n",
       "      <td>Joseph</td>\n",
       "      <td></td>\n",
       "      <td>Kirsner</td>\n",
       "      <td>...</td>\n",
       "      <td>00 Patient became disease-free after treatment...</td>\n",
       "      <td>NaT</td>\n",
       "      <td>0.0</td>\n",
       "      <td>0.0</td>\n",
       "      <td>0.0</td>\n",
       "      <td>3.252567</td>\n",
       "      <td>1.0</td>\n",
       "      <td>3.252567</td>\n",
       "      <td>1.0</td>\n",
       "      <td>3.252567</td>\n",
       "    </tr>\n",
       "    <tr>\n",
       "      <th>4</th>\n",
       "      <td></td>\n",
       "      <td>234188.0</td>\n",
       "      <td>8962</td>\n",
       "      <td>1940-01-15</td>\n",
       "      <td>2005-05-20</td>\n",
       "      <td>2 Female</td>\n",
       "      <td>White</td>\n",
       "      <td>Roberta</td>\n",
       "      <td></td>\n",
       "      <td>Siegel</td>\n",
       "      <td>...</td>\n",
       "      <td>00 Patient became disease-free after treatment...</td>\n",
       "      <td>NaT</td>\n",
       "      <td>0.0</td>\n",
       "      <td>0.0</td>\n",
       "      <td>0.0</td>\n",
       "      <td>14.286105</td>\n",
       "      <td>0.0</td>\n",
       "      <td>14.286105</td>\n",
       "      <td>0.0</td>\n",
       "      <td>14.286105</td>\n",
       "    </tr>\n",
       "    <tr>\n",
       "      <th>...</th>\n",
       "      <td>...</td>\n",
       "      <td>...</td>\n",
       "      <td>...</td>\n",
       "      <td>...</td>\n",
       "      <td>...</td>\n",
       "      <td>...</td>\n",
       "      <td>...</td>\n",
       "      <td>...</td>\n",
       "      <td>...</td>\n",
       "      <td>...</td>\n",
       "      <td>...</td>\n",
       "      <td>...</td>\n",
       "      <td>...</td>\n",
       "      <td>...</td>\n",
       "      <td>...</td>\n",
       "      <td>...</td>\n",
       "      <td>...</td>\n",
       "      <td>...</td>\n",
       "      <td>...</td>\n",
       "      <td>...</td>\n",
       "      <td>...</td>\n",
       "    </tr>\n",
       "    <tr>\n",
       "      <th>4582</th>\n",
       "      <td></td>\n",
       "      <td>3996277.0</td>\n",
       "      <td>16352A</td>\n",
       "      <td>1971-02-13</td>\n",
       "      <td>2020-10-08</td>\n",
       "      <td>2 Female</td>\n",
       "      <td>White</td>\n",
       "      <td>Katherine</td>\n",
       "      <td>A</td>\n",
       "      <td>Jackson</td>\n",
       "      <td>...</td>\n",
       "      <td>00 Patient became disease-free after treatment...</td>\n",
       "      <td>NaT</td>\n",
       "      <td>0.0</td>\n",
       "      <td>0.0</td>\n",
       "      <td>0.0</td>\n",
       "      <td>0.459959</td>\n",
       "      <td>0.0</td>\n",
       "      <td>0.459959</td>\n",
       "      <td>0.0</td>\n",
       "      <td>0.459959</td>\n",
       "    </tr>\n",
       "    <tr>\n",
       "      <th>4583</th>\n",
       "      <td></td>\n",
       "      <td>3997329.0</td>\n",
       "      <td>16352A</td>\n",
       "      <td>1959-05-20</td>\n",
       "      <td>2020-10-15</td>\n",
       "      <td>2 Female</td>\n",
       "      <td>White</td>\n",
       "      <td>Lucyna</td>\n",
       "      <td></td>\n",
       "      <td>Cretu</td>\n",
       "      <td>...</td>\n",
       "      <td>00 Patient became disease-free after treatment...</td>\n",
       "      <td>NaT</td>\n",
       "      <td>0.0</td>\n",
       "      <td>0.0</td>\n",
       "      <td>0.0</td>\n",
       "      <td>0.522929</td>\n",
       "      <td>0.0</td>\n",
       "      <td>0.522929</td>\n",
       "      <td>0.0</td>\n",
       "      <td>0.522929</td>\n",
       "    </tr>\n",
       "    <tr>\n",
       "      <th>4584</th>\n",
       "      <td></td>\n",
       "      <td>4007940.0</td>\n",
       "      <td>16352A</td>\n",
       "      <td>1936-04-27</td>\n",
       "      <td>2020-10-15</td>\n",
       "      <td>2 Female</td>\n",
       "      <td>White</td>\n",
       "      <td>Sharon</td>\n",
       "      <td></td>\n",
       "      <td>Dillon</td>\n",
       "      <td>...</td>\n",
       "      <td>00 Patient became disease-free after treatment...</td>\n",
       "      <td>NaT</td>\n",
       "      <td>0.0</td>\n",
       "      <td>0.0</td>\n",
       "      <td>0.0</td>\n",
       "      <td>0.462697</td>\n",
       "      <td>0.0</td>\n",
       "      <td>0.462697</td>\n",
       "      <td>0.0</td>\n",
       "      <td>0.462697</td>\n",
       "    </tr>\n",
       "    <tr>\n",
       "      <th>4585</th>\n",
       "      <td></td>\n",
       "      <td>4011707.0</td>\n",
       "      <td>16352A</td>\n",
       "      <td>1965-03-30</td>\n",
       "      <td>2020-10-14</td>\n",
       "      <td>2 Female</td>\n",
       "      <td>White</td>\n",
       "      <td>Marianne</td>\n",
       "      <td></td>\n",
       "      <td>Tolar</td>\n",
       "      <td>...</td>\n",
       "      <td>70 Since diagnosis, patient has never been dis...</td>\n",
       "      <td>NaT</td>\n",
       "      <td>70.0</td>\n",
       "      <td>70.0</td>\n",
       "      <td>NaN</td>\n",
       "      <td>NaN</td>\n",
       "      <td>0.0</td>\n",
       "      <td>0.509240</td>\n",
       "      <td>0.0</td>\n",
       "      <td>0.509240</td>\n",
       "    </tr>\n",
       "    <tr>\n",
       "      <th>4586</th>\n",
       "      <td></td>\n",
       "      <td>4014519.0</td>\n",
       "      <td>16352A</td>\n",
       "      <td>1972-04-18</td>\n",
       "      <td>2020-11-09</td>\n",
       "      <td>2 Female</td>\n",
       "      <td>White</td>\n",
       "      <td>Jennifer</td>\n",
       "      <td></td>\n",
       "      <td>Elliott</td>\n",
       "      <td>...</td>\n",
       "      <td>00 Patient became disease-free after treatment...</td>\n",
       "      <td>NaT</td>\n",
       "      <td>0.0</td>\n",
       "      <td>0.0</td>\n",
       "      <td>0.0</td>\n",
       "      <td>0.468172</td>\n",
       "      <td>0.0</td>\n",
       "      <td>0.468172</td>\n",
       "      <td>0.0</td>\n",
       "      <td>0.468172</td>\n",
       "    </tr>\n",
       "  </tbody>\n",
       "</table>\n",
       "<p>4587 rows × 295 columns</p>\n",
       "</div>"
      ]
     },
     "metadata": {},
     "execution_count": 6
    }
   ],
   "metadata": {}
  },
  {
   "cell_type": "code",
   "execution_count": 10,
   "source": [
    "total_n = len(data.index)\n",
    "data = data[~pd.isnull(data.Age)]\n",
    "print(\"filtered out {} entries without a valid age\".format(total_n - len(data.index)))"
   ],
   "outputs": [
    {
     "output_type": "stream",
     "name": "stdout",
     "text": [
      "filtered out 46 entries without a valid age\n"
     ]
    }
   ],
   "metadata": {}
  },
  {
   "cell_type": "code",
   "execution_count": 11,
   "source": [
    "total_n = len(data.index)\n",
    "data = data[~data.raceethnic.isin([\"98\", \"Yes\"])]\n",
    "\n",
    "print(\n",
    "    \"filtered out {} entries without a valid race/ethnic entry\".format(\n",
    "        total_n - len(data.index)\n",
    "    )\n",
    ")"
   ],
   "outputs": [
    {
     "output_type": "stream",
     "name": "stdout",
     "text": [
      "filtered out 2 entries without a valid race/ethnic entry\n"
     ]
    }
   ],
   "metadata": {}
  },
  {
   "cell_type": "code",
   "execution_count": 12,
   "source": [
    "total_n = len(data.index)\n",
    "data.mrn = pd.to_numeric(data.mrn, errors=\"coerce\")\n",
    "data = data[~pd.isnull(data.mrn)]\n",
    "print(\"filtered out {} entries without a valid MRN\".format(total_n - len(data.index)))"
   ],
   "outputs": [
    {
     "output_type": "stream",
     "name": "stdout",
     "text": [
      "filtered out 0 entries without a valid MRN\n"
     ]
    }
   ],
   "metadata": {}
  },
  {
   "cell_type": "code",
   "execution_count": 13,
   "source": [
    "total_n = len(data.index)\n",
    "data = data[~pd.isnull(data.stage1)]\n",
    "print(\n",
    "    \"filtered out {} entries without a valid stage at diagnosis\".format(\n",
    "        total_n - len(data.index)\n",
    "    )\n",
    ")"
   ],
   "outputs": [
    {
     "output_type": "stream",
     "name": "stdout",
     "text": [
      "filtered out 85 entries without a valid stage at diagnosis\n"
     ]
    }
   ],
   "metadata": {}
  },
  {
   "cell_type": "code",
   "execution_count": 14,
   "source": [
    "data.mrn = data.mrn.astype(int)\n",
    "data.Age = data.Age.astype(int)\n",
    "data.stage1 = data.stage1.astype(int)\n",
    "data.her2 = pd.to_numeric(data.her2, errors=\"coerce\")\n",
    "data[\"datedx\"] = pd.to_datetime(data[\"datedx\"], infer_datetime_format=True)"
   ],
   "outputs": [],
   "metadata": {}
  },
  {
   "cell_type": "code",
   "execution_count": 15,
   "source": [
    "data[\"binned_age\"] = pd.cut(data.Age, bins=[0, 39, 49, 59, 69, data.Age.max()])\n",
    "data[\"binned_age\"].value_counts(sort=False)"
   ],
   "outputs": [
    {
     "output_type": "execute_result",
     "data": {
      "text/plain": [
       "(0, 39]      432\n",
       "(39, 49]    1013\n",
       "(49, 59]    1129\n",
       "(59, 69]     964\n",
       "(69, 99]     832\n",
       "Name: binned_age, dtype: int64"
      ]
     },
     "metadata": {},
     "execution_count": 15
    }
   ],
   "metadata": {}
  },
  {
   "cell_type": "code",
   "execution_count": 16,
   "source": [
    "race_groups = {\n",
    "    \"White\": [\"White\"],\n",
    "    \"Black\": [\"Black\"],\n",
    "    \"Asian / Pacific Islander\": [\n",
    "        \"Asian Indian\",\n",
    "        \"Asian Indian or Pakistani, NOS\",\n",
    "        \"Filipino\",\n",
    "        \"Chinese\",\n",
    "        \"Other Asian, including Asian/Oriental, NOS\",\n",
    "        \"Japanese\",\n",
    "        \"Korean\",\n",
    "        \"Hawaiian\",\n",
    "        \"Vietnamese\",\n",
    "        \"Thai (effective with 1994 diagnoses)\",\n",
    "        \"Pakistani\",\n",
    "    ],\n",
    "    \"Other\": [\"Other\", \"Unknown\"],\n",
    "}\n",
    "\n",
    "for label, group in race_groups.items():\n",
    "    print(label, len(data[data.race_1.str.contains(\"|\".join(group))]))"
   ],
   "outputs": [
    {
     "output_type": "stream",
     "name": "stdout",
     "text": [
      "White 2439\n",
      "Black 1680\n",
      "Asian / Pacific Islander 175\n",
      "Other 85\n"
     ]
    }
   ],
   "metadata": {}
  },
  {
   "cell_type": "code",
   "execution_count": 17,
   "source": [
    "data.IRB.value_counts()"
   ],
   "outputs": [
    {
     "output_type": "execute_result",
     "data": {
      "text/plain": [
       "16352A          3068\n",
       "8962, 16352A     696\n",
       "8962             355\n",
       "Pre-SPORE        251\n",
       "Name: IRB, dtype: int64"
      ]
     },
     "metadata": {},
     "execution_count": 17
    }
   ],
   "metadata": {}
  },
  {
   "cell_type": "code",
   "execution_count": 18,
   "source": [
    "mrn_to_study_id = pd.read_csv(\n",
    "    \"/gpfs/data/phs/groups/Projects/Huo_projects/SPORE/ojomoleye/data/mrn_to_study_id.csv\",\n",
    "    names=[\"mrn\", \"study_id\"],\n",
    ")\n",
    "mirai_set = pd.read_csv(\n",
    "    \"/gpfs/data/huo-lab/Image/ojomoleye/projects/mirai_validation/mirai_chimec_all.csv\"\n",
    ")\n",
    "downloaded_data = pd.read_pickle(\n",
    "    \"/gpfs/data/phs/groups/Projects/Huo_projects/SPORE/ojomoleye/data/downloaded_imaging_metadata.pkl\"\n",
    ")\n",
    "val_results = pd.read_csv(\n",
    "    \"/gpfs/data/huo-lab/Image/ojomoleye/projects/mirai_validation/data/interim_full_validation_output.csv\"\n",
    ")"
   ],
   "outputs": [],
   "metadata": {}
  },
  {
   "cell_type": "code",
   "execution_count": 173,
   "source": [
    "val_results[\"patient_id\"] = val_results[\"patient_exam_id\"].apply(\n",
    "    lambda x: x.split('\\t')[0])"
   ],
   "outputs": [],
   "metadata": {}
  },
  {
   "cell_type": "code",
   "execution_count": 174,
   "source": [
    "#8 digit from radiology\n",
    "#mrn to study id"
   ],
   "outputs": [
    {
     "output_type": "execute_result",
     "data": {
      "text/plain": [
       "        patient_exam_id  1_year_risk  2_year_risk  3_year_risk  4_year_risk  \\\n",
       "0     58982377\\t2O10729     0.024250     0.036742     0.046101     0.054766   \n",
       "1     91783139\\t2O11253     0.001948     0.004567     0.007890     0.011327   \n",
       "2     59441111\\t2O10786     0.003628     0.008235     0.012976     0.016394   \n",
       "3     59441111\\t2O10787     0.004519     0.009567     0.014736     0.017790   \n",
       "4     59441111\\t2O10788     0.002534     0.006088     0.010050     0.014190   \n",
       "...                 ...          ...          ...          ...          ...   \n",
       "1149  38461703\\t2O07043     0.010150     0.019160     0.026575     0.031181   \n",
       "1150  38461703\\t2O07044     0.014565     0.023171     0.031222     0.036755   \n",
       "1151  38461703\\t2O07045     0.018022     0.028074     0.036731     0.043401   \n",
       "1152  38461703\\t2O07053     0.047988     0.068444     0.077761     0.093401   \n",
       "1153  38461703\\t2O16486     0.065335     0.090567     0.098347     0.118459   \n",
       "\n",
       "      5_year_risk patient_id  \n",
       "0        0.062453   58982377  \n",
       "1        0.014326   91783139  \n",
       "2        0.020359   59441111  \n",
       "3        0.021996   59441111  \n",
       "4        0.017754   59441111  \n",
       "...           ...        ...  \n",
       "1149     0.037213   38461703  \n",
       "1150     0.043330   38461703  \n",
       "1151     0.050489   38461703  \n",
       "1152     0.101330   38461703  \n",
       "1153     0.125670   38461703  \n",
       "\n",
       "[1154 rows x 7 columns]"
      ],
      "text/html": [
       "<div>\n",
       "<style scoped>\n",
       "    .dataframe tbody tr th:only-of-type {\n",
       "        vertical-align: middle;\n",
       "    }\n",
       "\n",
       "    .dataframe tbody tr th {\n",
       "        vertical-align: top;\n",
       "    }\n",
       "\n",
       "    .dataframe thead th {\n",
       "        text-align: right;\n",
       "    }\n",
       "</style>\n",
       "<table border=\"1\" class=\"dataframe\">\n",
       "  <thead>\n",
       "    <tr style=\"text-align: right;\">\n",
       "      <th></th>\n",
       "      <th>patient_exam_id</th>\n",
       "      <th>1_year_risk</th>\n",
       "      <th>2_year_risk</th>\n",
       "      <th>3_year_risk</th>\n",
       "      <th>4_year_risk</th>\n",
       "      <th>5_year_risk</th>\n",
       "      <th>patient_id</th>\n",
       "    </tr>\n",
       "  </thead>\n",
       "  <tbody>\n",
       "    <tr>\n",
       "      <th>0</th>\n",
       "      <td>58982377\\t2O10729</td>\n",
       "      <td>0.024250</td>\n",
       "      <td>0.036742</td>\n",
       "      <td>0.046101</td>\n",
       "      <td>0.054766</td>\n",
       "      <td>0.062453</td>\n",
       "      <td>58982377</td>\n",
       "    </tr>\n",
       "    <tr>\n",
       "      <th>1</th>\n",
       "      <td>91783139\\t2O11253</td>\n",
       "      <td>0.001948</td>\n",
       "      <td>0.004567</td>\n",
       "      <td>0.007890</td>\n",
       "      <td>0.011327</td>\n",
       "      <td>0.014326</td>\n",
       "      <td>91783139</td>\n",
       "    </tr>\n",
       "    <tr>\n",
       "      <th>2</th>\n",
       "      <td>59441111\\t2O10786</td>\n",
       "      <td>0.003628</td>\n",
       "      <td>0.008235</td>\n",
       "      <td>0.012976</td>\n",
       "      <td>0.016394</td>\n",
       "      <td>0.020359</td>\n",
       "      <td>59441111</td>\n",
       "    </tr>\n",
       "    <tr>\n",
       "      <th>3</th>\n",
       "      <td>59441111\\t2O10787</td>\n",
       "      <td>0.004519</td>\n",
       "      <td>0.009567</td>\n",
       "      <td>0.014736</td>\n",
       "      <td>0.017790</td>\n",
       "      <td>0.021996</td>\n",
       "      <td>59441111</td>\n",
       "    </tr>\n",
       "    <tr>\n",
       "      <th>4</th>\n",
       "      <td>59441111\\t2O10788</td>\n",
       "      <td>0.002534</td>\n",
       "      <td>0.006088</td>\n",
       "      <td>0.010050</td>\n",
       "      <td>0.014190</td>\n",
       "      <td>0.017754</td>\n",
       "      <td>59441111</td>\n",
       "    </tr>\n",
       "    <tr>\n",
       "      <th>...</th>\n",
       "      <td>...</td>\n",
       "      <td>...</td>\n",
       "      <td>...</td>\n",
       "      <td>...</td>\n",
       "      <td>...</td>\n",
       "      <td>...</td>\n",
       "      <td>...</td>\n",
       "    </tr>\n",
       "    <tr>\n",
       "      <th>1149</th>\n",
       "      <td>38461703\\t2O07043</td>\n",
       "      <td>0.010150</td>\n",
       "      <td>0.019160</td>\n",
       "      <td>0.026575</td>\n",
       "      <td>0.031181</td>\n",
       "      <td>0.037213</td>\n",
       "      <td>38461703</td>\n",
       "    </tr>\n",
       "    <tr>\n",
       "      <th>1150</th>\n",
       "      <td>38461703\\t2O07044</td>\n",
       "      <td>0.014565</td>\n",
       "      <td>0.023171</td>\n",
       "      <td>0.031222</td>\n",
       "      <td>0.036755</td>\n",
       "      <td>0.043330</td>\n",
       "      <td>38461703</td>\n",
       "    </tr>\n",
       "    <tr>\n",
       "      <th>1151</th>\n",
       "      <td>38461703\\t2O07045</td>\n",
       "      <td>0.018022</td>\n",
       "      <td>0.028074</td>\n",
       "      <td>0.036731</td>\n",
       "      <td>0.043401</td>\n",
       "      <td>0.050489</td>\n",
       "      <td>38461703</td>\n",
       "    </tr>\n",
       "    <tr>\n",
       "      <th>1152</th>\n",
       "      <td>38461703\\t2O07053</td>\n",
       "      <td>0.047988</td>\n",
       "      <td>0.068444</td>\n",
       "      <td>0.077761</td>\n",
       "      <td>0.093401</td>\n",
       "      <td>0.101330</td>\n",
       "      <td>38461703</td>\n",
       "    </tr>\n",
       "    <tr>\n",
       "      <th>1153</th>\n",
       "      <td>38461703\\t2O16486</td>\n",
       "      <td>0.065335</td>\n",
       "      <td>0.090567</td>\n",
       "      <td>0.098347</td>\n",
       "      <td>0.118459</td>\n",
       "      <td>0.125670</td>\n",
       "      <td>38461703</td>\n",
       "    </tr>\n",
       "  </tbody>\n",
       "</table>\n",
       "<p>1154 rows × 7 columns</p>\n",
       "</div>"
      ]
     },
     "metadata": {},
     "execution_count": 174
    }
   ],
   "metadata": {}
  },
  {
   "cell_type": "code",
   "execution_count": null,
   "source": [],
   "outputs": [],
   "metadata": {}
  }
 ],
 "metadata": {
  "orig_nbformat": 4,
  "language_info": {
   "name": "python",
   "version": "3.9.5",
   "mimetype": "text/x-python",
   "codemirror_mode": {
    "name": "ipython",
    "version": 3
   },
   "pygments_lexer": "ipython3",
   "nbconvert_exporter": "python",
   "file_extension": ".py"
  },
  "kernelspec": {
   "name": "python3",
   "display_name": "Python 3.9.5 64-bit ('mirai': conda)"
  },
  "interpreter": {
   "hash": "f81672847bb1090e7e52f548ade7ee931ed9c782612733d3f97f3f9cac2437e9"
  }
 },
 "nbformat": 4,
 "nbformat_minor": 2
}