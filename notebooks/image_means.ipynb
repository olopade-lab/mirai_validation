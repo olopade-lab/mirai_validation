{
 "cells": [
  {
   "cell_type": "code",
   "execution_count": null,
   "source": [
    "import os\n",
    "from argparse import ArgumentParser\n",
    "from typing import Any, Callable, Dict, Literal, Optional, Tuple, Union\n",
    "\n",
    "import cv2\n",
    "import nibabel as nib\n",
    "import numpy as np\n",
    "import pandas as pd\n",
    "import pytorch_lightning as pl\n",
    "import torch\n",
    "from PIL import Image\n",
    "from pycox.models import logistic_hazard\n",
    "from sklearn.model_selection import train_test_split\n",
    "from torch.utils.data import DataLoader, Dataset\n",
    "from torchvision import transforms\n",
    "from tqdm import tqdm\n",
    "\n",
    "print(\"imported all modules!\")"
   ],
   "outputs": [
    {
     "output_type": "stream",
     "name": "stderr",
     "text": [
      "\n",
      "This code is using an older version of pydicom, which is no longer \n",
      "maintained as of Jan 2017.  You can access the new pydicom features and API \n",
      "by installing `pydicom` from PyPI.\n",
      "See 'Transitioning to pydicom 1.x' section at pydicom.readthedocs.org \n",
      "for more information.\n",
      "\n"
     ]
    },
    {
     "output_type": "stream",
     "name": "stdout",
     "text": [
      "imported all modules!\n"
     ]
    }
   ],
   "metadata": {}
  },
  {
   "cell_type": "code",
   "execution_count": null,
   "source": [],
   "outputs": [],
   "metadata": {}
  },
  {
   "cell_type": "code",
   "execution_count": 4,
   "source": [
    "#example compression pngs\n",
    "\n",
    "comp_list= [\n",
    "    '/gpfs/data/huo-lab/Image/ojomoleye/projects/mirai_validation/chimec_mammo_pngs/10127072/2O03650/1.2.840.113681.2210718569.736.3652951264.342.1/1.2.840.113681.2210718569.736.3652951264.352.1.dcm.png',\n",
    "    '/gpfs/data/huo-lab/Image/ojomoleye/projects/mirai_validation/chimec_mammo_pngs/10280027/2O03674/1.2.840.113681.2229462448.965.3449893023.217.1/1.2.840.113681.2229462448.965.3449893023.218.1.dcm.png',\n",
    "    '/gpfs/data/huo-lab/Image/ojomoleye/projects/mirai_validation/chimec_mammo_pngs/45793366/2O08054/1.2.840.113681.2229462448.18692.3581759710.19.1/1.2.840.113681.2229462448.18692.3581759710.22.1.dcm.png',\n",
    "    '/gpfs/data/huo-lab/Image/ojomoleye/projects/mirai_validation/chimec_mammo_pngs/10383886/2O03609/1.2.840.113681.2229462448.965.3478927198.198.1/1.2.840.113681.2229462448.965.3478927198.199.1.dcm.png',\n",
    "    '/gpfs/data/huo-lab/Image/ojomoleye/projects/mirai_validation/chimec_mammo_pngs/10402023/2O03601/1.2.840.113681.2229462448.4856.3561268464.160.1/1.2.840.113681.2229462448.4856.3561268464.166.1.dcm.png',\n",
    "    '/gpfs/data/huo-lab/Image/ojomoleye/projects/mirai_validation/chimec_mammo_pngs/10402023/2O03601/1.2.840.113681.2229462448.4856.3561268464.161.1/1.2.840.113681.2229462448.4856.3561268464.168.1.dcm.png',\n",
    "    '/gpfs/data/huo-lab/Image/ojomoleye/projects/mirai_validation/chimec_mammo_pngs/10402023/2O03602/1.2.840.113681.2229461946.1696.3615799646.242.1/1.2.840.113681.2229461946.1696.3615799646.244.1.dcm.png',\n",
    "]\n",
    "\n",
    "print(comp_list)"
   ],
   "outputs": [
    {
     "output_type": "stream",
     "name": "stdout",
     "text": [
      "['/gpfs/data/huo-lab/Image/ojomoleye/projects/mirai_validation/chimec_mammo_pngs/10127072/2O03650/1.2.840.113681.2210718569.736.3652951264.342.1/1.2.840.113681.2210718569.736.3652951264.352.1.dcm.png', '/gpfs/data/huo-lab/Image/ojomoleye/projects/mirai_validation/chimec_mammo_pngs/10280027/2O03674/1.2.840.113681.2229462448.965.3449893023.217.1/1.2.840.113681.2229462448.965.3449893023.218.1.dcm.png', '/gpfs/data/huo-lab/Image/ojomoleye/projects/mirai_validation/chimec_mammo_pngs/45793366/2O08054/1.2.840.113681.2229462448.18692.3581759710.19.1/1.2.840.113681.2229462448.18692.3581759710.22.1.dcm.png', '/gpfs/data/huo-lab/Image/ojomoleye/projects/mirai_validation/chimec_mammo_pngs/10383886/2O03609/1.2.840.113681.2229462448.965.3478927198.198.1/1.2.840.113681.2229462448.965.3478927198.199.1.dcm.png', '/gpfs/data/huo-lab/Image/ojomoleye/projects/mirai_validation/chimec_mammo_pngs/10402023/2O03601/1.2.840.113681.2229462448.4856.3561268464.160.1/1.2.840.113681.2229462448.4856.3561268464.166.1.dcm.png', '/gpfs/data/huo-lab/Image/ojomoleye/projects/mirai_validation/chimec_mammo_pngs/10402023/2O03601/1.2.840.113681.2229462448.4856.3561268464.161.1/1.2.840.113681.2229462448.4856.3561268464.168.1.dcm.png', '/gpfs/data/huo-lab/Image/ojomoleye/projects/mirai_validation/chimec_mammo_pngs/10402023/2O03602/1.2.840.113681.2229461946.1696.3615799646.242.1/1.2.840.113681.2229461946.1696.3615799646.244.1.dcm.png']\n"
     ]
    }
   ],
   "metadata": {}
  },
  {
   "cell_type": "code",
   "execution_count": 43,
   "source": [
    "#example magnified pngs(not compression)\n"
   ],
   "outputs": [],
   "metadata": {}
  },
  {
   "cell_type": "code",
   "execution_count": 15,
   "source": [
    "image_file = '/gpfs/data/huo-lab/Image/ojomoleye/projects/mirai_validation/chimec_mammo_pngs/10127072/2O03650/1.2.840.113681.2210718569.736.3652951264.342.1/1.2.840.113681.2210718569.736.3652951264.352.1.dcm.png'\n",
    "image=Image.open(image_file)\n",
    "torch.mean(torch.tensor((image)))\n",
    "torch.mean(image)"
   ],
   "outputs": [
    {
     "output_type": "error",
     "ename": "RuntimeError",
     "evalue": "Could not infer dtype of PngImageFile",
     "traceback": [
      "\u001b[0;31m---------------------------------------------------------------------------\u001b[0m",
      "\u001b[0;31mRuntimeError\u001b[0m                              Traceback (most recent call last)",
      "\u001b[0;32m/tmp/ipykernel_46350/1831656087.py\u001b[0m in \u001b[0;36m<module>\u001b[0;34m\u001b[0m\n\u001b[1;32m      1\u001b[0m \u001b[0mimage_file\u001b[0m \u001b[0;34m=\u001b[0m \u001b[0;34m'/gpfs/data/huo-lab/Image/ojomoleye/projects/mirai_validation/chimec_mammo_pngs/10127072/2O03650/1.2.840.113681.2210718569.736.3652951264.342.1/1.2.840.113681.2210718569.736.3652951264.352.1.dcm.png'\u001b[0m\u001b[0;34m\u001b[0m\u001b[0;34m\u001b[0m\u001b[0m\n\u001b[1;32m      2\u001b[0m \u001b[0mimage\u001b[0m\u001b[0;34m=\u001b[0m\u001b[0mImage\u001b[0m\u001b[0;34m.\u001b[0m\u001b[0mopen\u001b[0m\u001b[0;34m(\u001b[0m\u001b[0mimage_file\u001b[0m\u001b[0;34m)\u001b[0m\u001b[0;34m\u001b[0m\u001b[0;34m\u001b[0m\u001b[0m\n\u001b[0;32m----> 3\u001b[0;31m \u001b[0mtorch\u001b[0m\u001b[0;34m.\u001b[0m\u001b[0mmean\u001b[0m\u001b[0;34m(\u001b[0m\u001b[0mtorch\u001b[0m\u001b[0;34m.\u001b[0m\u001b[0mtensor\u001b[0m\u001b[0;34m(\u001b[0m\u001b[0;34m(\u001b[0m\u001b[0mimage\u001b[0m\u001b[0;34m)\u001b[0m\u001b[0;34m)\u001b[0m\u001b[0;34m)\u001b[0m\u001b[0;34m\u001b[0m\u001b[0;34m\u001b[0m\u001b[0m\n\u001b[0m\u001b[1;32m      4\u001b[0m \u001b[0mtorch\u001b[0m\u001b[0;34m.\u001b[0m\u001b[0mmean\u001b[0m\u001b[0;34m(\u001b[0m\u001b[0mimage\u001b[0m\u001b[0;34m)\u001b[0m\u001b[0;34m\u001b[0m\u001b[0;34m\u001b[0m\u001b[0m\n",
      "\u001b[0;31mRuntimeError\u001b[0m: Could not infer dtype of PngImageFile"
     ]
    }
   ],
   "metadata": {}
  },
  {
   "cell_type": "code",
   "execution_count": 17,
   "source": [
    "mag_data=pd.read_csv('/scratch/ojomoleye/mirai-validation/magnified_mammos_with_paths.csv')\n",
    "df_mag=pd.DataFrame(mag_data)\n",
    "mag_list= df_mag.png_path.to_list()\n",
    "\n",
    "image= Image.open"
   ],
   "outputs": [],
   "metadata": {}
  },
  {
   "cell_type": "code",
   "execution_count": null,
   "source": [
    "means = []\n",
    "stds = []\n",
    "for image, time_to_event, event in tqdm(loader):\n",
    "    image = image * 1.0  # pytorch will not compute mean/std of integers\n",
    "    means.append(torch.mean(image))\n",
    "    stds.append(torch.std(image))\n",
    "\n",
    "self.mean = torch.mean(torch.tensor(means))\n",
    "self.std = torch.mean(torch.tensor(stds))\n",
    "\n",
    "print(f\"dataset mean: {self.mean}\\ndataset std: {self.std}\")"
   ],
   "outputs": [],
   "metadata": {}
  }
 ],
 "metadata": {
  "kernelspec": {
   "name": "python3",
   "display_name": "Python 3.8.10 64-bit ('jupyter_env': conda)"
  },
  "language_info": {
   "codemirror_mode": {
    "name": "ipython",
    "version": 3
   },
   "file_extension": ".py",
   "mimetype": "text/x-python",
   "name": "python",
   "nbconvert_exporter": "python",
   "pygments_lexer": "ipython3",
   "version": "3.8.10"
  },
  "interpreter": {
   "hash": "5f3cb769d44b35e453834d66c393d0be001e765f66a2b4755d4744a655ffcd9e"
  }
 },
 "nbformat": 4,
 "nbformat_minor": 5
}