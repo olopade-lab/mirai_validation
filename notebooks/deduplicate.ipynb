{
 "cells": [
  {
   "cell_type": "code",
   "execution_count": 1,
   "metadata": {},
   "outputs": [],
   "source": [
    "import pandas as pd\n",
    "import numpy as np"
   ]
  },
  {
   "cell_type": "code",
   "execution_count": 2,
   "metadata": {},
   "outputs": [],
   "source": [
    "data = pd.read_csv('/gpfs/data/huo-lab/Image/ojomoleye/projects/mirai_validation/data/cleaned/interim_test.csv')"
   ]
  },
  {
   "cell_type": "code",
   "execution_count": 3,
   "metadata": {},
   "outputs": [],
   "source": [
    "data.drop(data.columns[[0]], axis=1, inplace=True) #drop irrelevant columns"
   ]
  },
  {
   "cell_type": "code",
   "execution_count": 4,
   "metadata": {},
   "outputs": [
    {
     "data": {
      "text/html": [
       "<div>\n",
       "<style scoped>\n",
       "    .dataframe tbody tr th:only-of-type {\n",
       "        vertical-align: middle;\n",
       "    }\n",
       "\n",
       "    .dataframe tbody tr th {\n",
       "        vertical-align: top;\n",
       "    }\n",
       "\n",
       "    .dataframe thead th {\n",
       "        text-align: right;\n",
       "    }\n",
       "</style>\n",
       "<table border=\"1\" class=\"dataframe\">\n",
       "  <thead>\n",
       "    <tr style=\"text-align: right;\">\n",
       "      <th></th>\n",
       "      <th>patient_id</th>\n",
       "      <th>exam_id</th>\n",
       "      <th>laterality</th>\n",
       "      <th>view</th>\n",
       "      <th>case</th>\n",
       "      <th>years_to_cancer</th>\n",
       "      <th>years_to_last_followup</th>\n",
       "      <th>file_path</th>\n",
       "      <th>split_group</th>\n",
       "    </tr>\n",
       "  </thead>\n",
       "  <tbody>\n",
       "    <tr>\n",
       "      <th>0</th>\n",
       "      <td>12939778</td>\n",
       "      <td>2O16667</td>\n",
       "      <td>L</td>\n",
       "      <td>MLO</td>\n",
       "      <td>False</td>\n",
       "      <td>100</td>\n",
       "      <td>3</td>\n",
       "      <td>/gpfs/data/huo-lab/Image/ojomoleye/projects/ma...</td>\n",
       "      <td>test</td>\n",
       "    </tr>\n",
       "    <tr>\n",
       "      <th>1</th>\n",
       "      <td>12939778</td>\n",
       "      <td>2O16667</td>\n",
       "      <td>R</td>\n",
       "      <td>MLO</td>\n",
       "      <td>False</td>\n",
       "      <td>100</td>\n",
       "      <td>3</td>\n",
       "      <td>/gpfs/data/huo-lab/Image/ojomoleye/projects/ma...</td>\n",
       "      <td>test</td>\n",
       "    </tr>\n",
       "    <tr>\n",
       "      <th>2</th>\n",
       "      <td>12939778</td>\n",
       "      <td>2O16667</td>\n",
       "      <td>R</td>\n",
       "      <td>CC</td>\n",
       "      <td>False</td>\n",
       "      <td>100</td>\n",
       "      <td>3</td>\n",
       "      <td>/gpfs/data/huo-lab/Image/ojomoleye/projects/ma...</td>\n",
       "      <td>test</td>\n",
       "    </tr>\n",
       "    <tr>\n",
       "      <th>3</th>\n",
       "      <td>12939778</td>\n",
       "      <td>2O16667</td>\n",
       "      <td>L</td>\n",
       "      <td>CC</td>\n",
       "      <td>False</td>\n",
       "      <td>100</td>\n",
       "      <td>3</td>\n",
       "      <td>/gpfs/data/huo-lab/Image/ojomoleye/projects/ma...</td>\n",
       "      <td>test</td>\n",
       "    </tr>\n",
       "    <tr>\n",
       "      <th>4</th>\n",
       "      <td>12939778</td>\n",
       "      <td>2O16666</td>\n",
       "      <td>L</td>\n",
       "      <td>CC</td>\n",
       "      <td>False</td>\n",
       "      <td>100</td>\n",
       "      <td>2</td>\n",
       "      <td>/gpfs/data/huo-lab/Image/ojomoleye/projects/ma...</td>\n",
       "      <td>test</td>\n",
       "    </tr>\n",
       "    <tr>\n",
       "      <th>...</th>\n",
       "      <td>...</td>\n",
       "      <td>...</td>\n",
       "      <td>...</td>\n",
       "      <td>...</td>\n",
       "      <td>...</td>\n",
       "      <td>...</td>\n",
       "      <td>...</td>\n",
       "      <td>...</td>\n",
       "      <td>...</td>\n",
       "    </tr>\n",
       "    <tr>\n",
       "      <th>174</th>\n",
       "      <td>13454869</td>\n",
       "      <td>2O26752</td>\n",
       "      <td>R</td>\n",
       "      <td>MLO</td>\n",
       "      <td>True</td>\n",
       "      <td>3</td>\n",
       "      <td>3</td>\n",
       "      <td>/gpfs/data/huo-lab/Image/ojomoleye/projects/ma...</td>\n",
       "      <td>test</td>\n",
       "    </tr>\n",
       "    <tr>\n",
       "      <th>175</th>\n",
       "      <td>13454869</td>\n",
       "      <td>2O26752</td>\n",
       "      <td>R</td>\n",
       "      <td>CC</td>\n",
       "      <td>True</td>\n",
       "      <td>3</td>\n",
       "      <td>3</td>\n",
       "      <td>/gpfs/data/huo-lab/Image/ojomoleye/projects/ma...</td>\n",
       "      <td>test</td>\n",
       "    </tr>\n",
       "    <tr>\n",
       "      <th>176</th>\n",
       "      <td>13454869</td>\n",
       "      <td>2O26752</td>\n",
       "      <td>L</td>\n",
       "      <td>MLO</td>\n",
       "      <td>True</td>\n",
       "      <td>3</td>\n",
       "      <td>3</td>\n",
       "      <td>/gpfs/data/huo-lab/Image/ojomoleye/projects/ma...</td>\n",
       "      <td>test</td>\n",
       "    </tr>\n",
       "    <tr>\n",
       "      <th>177</th>\n",
       "      <td>13454869</td>\n",
       "      <td>2O26752</td>\n",
       "      <td>R</td>\n",
       "      <td>CC</td>\n",
       "      <td>True</td>\n",
       "      <td>3</td>\n",
       "      <td>3</td>\n",
       "      <td>/gpfs/data/huo-lab/Image/ojomoleye/projects/ma...</td>\n",
       "      <td>test</td>\n",
       "    </tr>\n",
       "    <tr>\n",
       "      <th>178</th>\n",
       "      <td>13454869</td>\n",
       "      <td>2O26752</td>\n",
       "      <td>L</td>\n",
       "      <td>CC</td>\n",
       "      <td>True</td>\n",
       "      <td>3</td>\n",
       "      <td>3</td>\n",
       "      <td>/gpfs/data/huo-lab/Image/ojomoleye/projects/ma...</td>\n",
       "      <td>test</td>\n",
       "    </tr>\n",
       "  </tbody>\n",
       "</table>\n",
       "<p>179 rows × 9 columns</p>\n",
       "</div>"
      ],
      "text/plain": [
       "     patient_id  exam_id laterality view   case  years_to_cancer  \\\n",
       "0      12939778  2O16667          L  MLO  False              100   \n",
       "1      12939778  2O16667          R  MLO  False              100   \n",
       "2      12939778  2O16667          R   CC  False              100   \n",
       "3      12939778  2O16667          L   CC  False              100   \n",
       "4      12939778  2O16666          L   CC  False              100   \n",
       "..          ...      ...        ...  ...    ...              ...   \n",
       "174    13454869  2O26752          R  MLO   True                3   \n",
       "175    13454869  2O26752          R   CC   True                3   \n",
       "176    13454869  2O26752          L  MLO   True                3   \n",
       "177    13454869  2O26752          R   CC   True                3   \n",
       "178    13454869  2O26752          L   CC   True                3   \n",
       "\n",
       "     years_to_last_followup  \\\n",
       "0                         3   \n",
       "1                         3   \n",
       "2                         3   \n",
       "3                         3   \n",
       "4                         2   \n",
       "..                      ...   \n",
       "174                       3   \n",
       "175                       3   \n",
       "176                       3   \n",
       "177                       3   \n",
       "178                       3   \n",
       "\n",
       "                                             file_path split_group  \n",
       "0    /gpfs/data/huo-lab/Image/ojomoleye/projects/ma...        test  \n",
       "1    /gpfs/data/huo-lab/Image/ojomoleye/projects/ma...        test  \n",
       "2    /gpfs/data/huo-lab/Image/ojomoleye/projects/ma...        test  \n",
       "3    /gpfs/data/huo-lab/Image/ojomoleye/projects/ma...        test  \n",
       "4    /gpfs/data/huo-lab/Image/ojomoleye/projects/ma...        test  \n",
       "..                                                 ...         ...  \n",
       "174  /gpfs/data/huo-lab/Image/ojomoleye/projects/ma...        test  \n",
       "175  /gpfs/data/huo-lab/Image/ojomoleye/projects/ma...        test  \n",
       "176  /gpfs/data/huo-lab/Image/ojomoleye/projects/ma...        test  \n",
       "177  /gpfs/data/huo-lab/Image/ojomoleye/projects/ma...        test  \n",
       "178  /gpfs/data/huo-lab/Image/ojomoleye/projects/ma...        test  \n",
       "\n",
       "[179 rows x 9 columns]"
      ]
     },
     "execution_count": 4,
     "metadata": {},
     "output_type": "execute_result"
    }
   ],
   "source": [
    "data"
   ]
  },
  {
   "cell_type": "code",
   "execution_count": 5,
   "metadata": {},
   "outputs": [
    {
     "name": "stdout",
     "output_type": "stream",
     "text": [
      "there are 0 duplicated rows \n",
      " and 179 unduplicated rows\n"
     ]
    }
   ],
   "source": [
    "data.duplicated().value_counts()\n",
    "print(\"there are {} duplicated rows \\n and {} unduplicated rows\".format(data.duplicated().sum(), (~data.duplicated()).sum()))"
   ]
  },
  {
   "cell_type": "code",
   "execution_count": 6,
   "metadata": {},
   "outputs": [
    {
     "name": "stdout",
     "output_type": "stream",
     "text": [
      "in the full input cohort, before deduplication, there are 6 case exams for 5 unique women, \\m 42 control exams for 9 unique women\n"
     ]
    }
   ],
   "source": [
    "print(\"in the full input cohort, before deduplication, there are {} case exams for {} unique women, \\m {} control exams for {} unique women\".format(\n",
    "    data[data.years_to_cancer!=100].exam_id.nunique(), data[data.years_to_cancer!=100].patient_id.nunique(),\n",
    "    data[data.years_to_cancer==100].exam_id.nunique(), data[data.years_to_cancer==100].patient_id.nunique()\n",
    "))"
   ]
  },
  {
   "cell_type": "code",
   "execution_count": 7,
   "metadata": {},
   "outputs": [],
   "source": [
    "data = data.drop_duplicates()"
   ]
  },
  {
   "cell_type": "code",
   "execution_count": 8,
   "metadata": {},
   "outputs": [
    {
     "name": "stdout",
     "output_type": "stream",
     "text": [
      "in the full input cohort, after deduplication, there are 6 case exams for 5 unique women, \\m 42 control exams for 9 unique women\n"
     ]
    }
   ],
   "source": [
    "print(\"in the full input cohort, after deduplication, there are {} case exams for {} unique women, \\m {} control exams for {} unique women\".format(\n",
    "    data[data.years_to_cancer!=100].exam_id.nunique(), data[data.years_to_cancer!=100].patient_id.nunique(),\n",
    "    data[data.years_to_cancer==100].exam_id.nunique(), data[data.years_to_cancer==100].patient_id.nunique()\n",
    "))"
   ]
  },
  {
   "cell_type": "code",
   "execution_count": 54,
   "metadata": {},
   "outputs": [],
   "source": [
    "#save deduplicated input as a new csv and rerun"
   ]
  },
  {
   "cell_type": "code",
   "execution_count": 55,
   "metadata": {},
   "outputs": [],
   "source": [
    "data.to_csv(path_or_buf= \"../data/cleaned/deduplicated_all.csv\")"
   ]
  }
 ],
 "metadata": {
  "interpreter": {
   "hash": "dc5a3e361e3c69701d01836d7c46a291b984206c93ad0bfa2953915f9b340d75"
  },
  "kernelspec": {
   "display_name": "Python 3.9.5 64-bit ('mirai': conda)",
   "name": "python3"
  },
  "language_info": {
   "codemirror_mode": {
    "name": "ipython",
    "version": 3
   },
   "file_extension": ".py",
   "mimetype": "text/x-python",
   "name": "python",
   "nbconvert_exporter": "python",
   "pygments_lexer": "ipython3",
   "version": "3.9.5"
  },
  "orig_nbformat": 4
 },
 "nbformat": 4,
 "nbformat_minor": 2
}
