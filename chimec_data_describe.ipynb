{
 "cells": [
  {
   "cell_type": "markdown",
   "metadata": {},
   "source": [
    "# ChiMEC Radiomics Input and Output Data for Mirai Validation \n",
    "This notebook describes the mammogram dataset in ChIMEC used to validate Mirai.\n",
    "* examines exams available in ChIMEC and characterizes\n",
    "* filters available metadata and prepares for input into Mirai\n",
    "* Splits exams into subgroups for subgroup analysis"
   ]
  },
  {
   "cell_type": "code",
   "execution_count": 1,
   "metadata": {},
   "outputs": [
    {
     "name": "stderr",
     "output_type": "stream",
     "text": [
      "Columns (0,16,17,43,46,50,51,82,108,110,111,135,136,138,140,156,157,158,159,161,176,178,179,180,182,183,184,185,217,221,225,226,229,230,232,233,234,235,236) have mixed types.Specify dtype option on import or set low_memory=False.\n",
      "Columns (9,13,14,42,47,48,53,58,62,63,65,66,67,69,71,75,111,121,122,123,125,164,182,184,187,189,197,213,228,233,238,240,245,247,252,275,277,279,335,362,368,379,389,399,409,421,452,517,542,567,578,595,605,622,632,649,659,686,713,903,920,930,957,984,1011,1038,1228,1255,1282,1309,1336,1363,1390,1553,1579,1605,1631,1657) have mixed types.Specify dtype option on import or set low_memory=False.\n"
     ]
    }
   ],
   "source": [
    "%matplotlib inline\n",
    "import pandas as pd\n",
    "import numpy as np \n",
    "from utils.metadata_inspect import print_summary, print_summary2, case_control_prop, \\\n",
    "    prep_full_set, prep_by_race, prep_by_tumor_subtype\n",
    "import os.path \n",
    "import matplotlib.pyplot as plt\n",
    "import seaborn as sns "
   ]
  },
  {
   "cell_type": "code",
   "execution_count": 2,
   "metadata": {},
   "outputs": [],
   "source": [
    "exam_metadata_path= \"/gpfs/data/huo-lab/Image/annawoodard/maicara/data/interim/mammo_v9/metadata.pkl\"  \n",
    "#exam level data (does not contain image metadata but has patient and cancer info)\n",
    "exam_metadata= pd.read_pickle(exam_metadata_path) \n",
    "series_metadata_path= \"/gpfs/data/huo-lab/Image/annawoodard/maicara/data/interim/mammo_v9/series_metadata.pkl\"\n",
    "series_metadata = pd.read_pickle(series_metadata_path)"
   ]
  },
  {
   "cell_type": "code",
   "execution_count": 3,
   "metadata": {},
   "outputs": [],
   "source": [
    "full_set, metadata = prep_full_set()"
   ]
  },
  {
   "cell_type": "code",
   "execution_count": 4,
   "metadata": {},
   "outputs": [
    {
     "name": "stdout",
     "output_type": "stream",
     "text": [
      "there are 32.88% cases and 67.12% controls\n",
      "*****AVAILABLE/LOADED***** \n",
      " 2141 patients \n",
      " 1671 case exams for 704 cases \n",
      " 4947 control exams for 1437 controls \n",
      " 29381 total entries\n"
     ]
    }
   ],
   "source": [
    "case_control_prop(metadata=metadata)\n",
    "print_summary(metadata=metadata)"
   ]
  },
  {
   "cell_type": "markdown",
   "metadata": {},
   "source": [
    "ToDo: plot using a cut-flow, the removed exams that pass specified filter criteria\n",
    "\n",
    "For exams that pass the criteria:"
   ]
  },
  {
   "cell_type": "code",
   "execution_count": 5,
   "metadata": {},
   "outputs": [],
   "source": [
    "df = metadata.groupby(['unique_exam_id']).first() #keep the first entries"
   ]
  },
  {
   "cell_type": "code",
   "execution_count": 6,
   "metadata": {},
   "outputs": [
    {
     "data": {
      "text/plain": [
       "0.093151    11\n",
       "0.090411    11\n",
       "0.131507    10\n",
       "0.082192     8\n",
       "1.032877     8\n",
       "            ..\n",
       "3.986301     1\n",
       "8.032877     1\n",
       "0.931507     1\n",
       "1.947945     1\n",
       "1.109589     1\n",
       "Name: years_from_exam_to_diagnosis, Length: 1113, dtype: int64"
      ]
     },
     "execution_count": 6,
     "metadata": {},
     "output_type": "execute_result"
    }
   ],
   "source": [
    "cases= df[df['case']==True]    \n",
    "cases['years_from_exam_to_diagnosis'].value_counts(dropna=False)"
   ]
  },
  {
   "cell_type": "code",
   "execution_count": 7,
   "metadata": {},
   "outputs": [
    {
     "data": {
      "text/plain": [
       "count    1671.000000\n",
       "mean        2.890763\n",
       "std         2.125519\n",
       "min         0.082192\n",
       "25%         1.179452\n",
       "50%         2.358904\n",
       "75%         4.154795\n",
       "max        10.572603\n",
       "Name: years_from_exam_to_diagnosis, dtype: float64"
      ]
     },
     "execution_count": 7,
     "metadata": {},
     "output_type": "execute_result"
    }
   ],
   "source": [
    "cases['years_from_exam_to_diagnosis'].describe()"
   ]
  },
  {
   "cell_type": "code",
   "execution_count": 8,
   "metadata": {},
   "outputs": [
    {
     "data": {
      "text/plain": [
       "2.030137     9\n",
       "5.101370     8\n",
       "3.112329     7\n",
       "5.830137     7\n",
       "2.660274     7\n",
       "            ..\n",
       "7.232877     1\n",
       "7.293151     1\n",
       "7.687671     1\n",
       "10.104110    1\n",
       "8.073973     1\n",
       "Name: follow_up_years, Length: 2694, dtype: int64"
      ]
     },
     "execution_count": 8,
     "metadata": {},
     "output_type": "execute_result"
    }
   ],
   "source": [
    "controls = cases= df[df['case']== False]    \n",
    "controls['follow_up_years'].value_counts(dropna=False)"
   ]
  },
  {
   "cell_type": "code",
   "execution_count": 9,
   "metadata": {},
   "outputs": [
    {
     "data": {
      "text/plain": [
       "count    4947.000000\n",
       "mean        5.326983\n",
       "std         2.806808\n",
       "min         0.276712\n",
       "25%         3.056164\n",
       "50%         4.983562\n",
       "75%         7.453425\n",
       "max        19.361644\n",
       "Name: follow_up_years, dtype: float64"
      ]
     },
     "execution_count": 9,
     "metadata": {},
     "output_type": "execute_result"
    }
   ],
   "source": [
    "controls['follow_up_years'].describe()"
   ]
  },
  {
   "cell_type": "code",
   "execution_count": 10,
   "metadata": {},
   "outputs": [],
   "source": [
    "df['int_follow_up_years']=df['follow_up_years'].fillna(-1).astype(int)\n",
    "# if follow_up_years/ years_from_exam_to_diagnosis NaN, replace as -1\n",
    "df['int_years_from_exam_to_diagnosis']=df['years_from_exam_to_diagnosis'].fillna(-1).astype(int)"
   ]
  },
  {
   "cell_type": "code",
   "execution_count": 11,
   "metadata": {},
   "outputs": [],
   "source": [
    "controls = cases= df[df['case']== False]    \n",
    "cases= df[df['case']==True]    \n"
   ]
  },
  {
   "cell_type": "code",
   "execution_count": 12,
   "metadata": {},
   "outputs": [
    {
     "data": {
      "text/plain": [
       "2     750\n",
       "3     696\n",
       "4     596\n",
       "5     545\n",
       "6     476\n",
       "7     426\n",
       "8     355\n",
       "9     341\n",
       "1     287\n",
       "10    255\n",
       "0     155\n",
       "11     54\n",
       "12      5\n",
       "19      1\n",
       "15      1\n",
       "18      1\n",
       "17      1\n",
       "13      1\n",
       "14      1\n",
       "Name: int_follow_up_years, dtype: int64"
      ]
     },
     "execution_count": 12,
     "metadata": {},
     "output_type": "execute_result"
    }
   ],
   "source": [
    "controls['int_follow_up_years'].value_counts(dropna=False)"
   ]
  },
  {
   "cell_type": "code",
   "execution_count": 13,
   "metadata": {},
   "outputs": [
    {
     "data": {
      "text/plain": [
       "1     384\n",
       "2     324\n",
       "0     275\n",
       "3     229\n",
       "4     174\n",
       "5     109\n",
       "6      93\n",
       "7      47\n",
       "8      24\n",
       "9       9\n",
       "10      3\n",
       "Name: int_years_from_exam_to_diagnosis, dtype: int64"
      ]
     },
     "execution_count": 13,
     "metadata": {},
     "output_type": "execute_result"
    }
   ],
   "source": [
    "cases['int_years_from_exam_to_diagnosis'].value_counts(dropna=False)"
   ]
  },
  {
   "cell_type": "code",
   "execution_count": 14,
   "metadata": {},
   "outputs": [
    {
     "data": {
      "image/png": "[encoded data removed]",
      "text/plain": [
       "<Figure size 432x288 with 1 Axes>"
      ]
     },
     "metadata": {},
     "output_type": "display_data"
    }
   ],
   "source": [
    "# display distribution of case exams according to years from exam to diagnosis\n",
    "sns.set(style='darkgrid')\n",
    "sns.countplot(\n",
    "    x= 'int_years_from_exam_to_diagnosis', \n",
    "    data = cases,\n",
    "    #order = cases['int_years_from_exam_to_diagnosis'].value_counts().index\n",
    ")\n",
    "\n",
    "plt.show()\n",
    "\n",
    "# bars should be all the same color"
   ]
  },
  {
   "cell_type": "code",
   "execution_count": 15,
   "metadata": {},
   "outputs": [
    {
     "data": {
      "image/png": "[encoded data removed]",
      "text/plain": [
       "<Figure size 432x288 with 1 Axes>"
      ]
     },
     "metadata": {},
     "output_type": "display_data"
    }
   ],
   "source": [
    "# display distribution of follow-up years for controls\n",
    "sns.set(style='darkgrid')\n",
    "sns.countplot(\n",
    "    x= 'int_follow_up_years', \n",
    "    data = controls,\n",
    "    #order = controls['int_follow_up_years'].value_counts().index\n",
    ")\n",
    "\n",
    "plt.show()"
   ]
  },
  {
   "cell_type": "code",
   "execution_count": 16,
   "metadata": {},
   "outputs": [
    {
     "name": "stdout",
     "output_type": "stream",
     "text": [
      "49.788 percent of control exams have at least 5 years of follow-up\n",
      "91.065 percent of controls have at least 2 years of follow-up\n"
     ]
    }
   ],
   "source": [
    "# Percentage of control exams with at least 5 years of follow_up information\n",
    "\n",
    "pass_cut_five = controls[controls['follow_up_years'] >= 5.0]\n",
    "pass_cut_two = controls[controls['follow_up_years'] >= 2.0]\n",
    "five_year_cut = len(pass_cut_five) / len(controls) * 100\n",
    "two_year_cut = len(pass_cut_two) / len(controls) * 100\n",
    "\n",
    "print('{:.3f} percent of control exams have at least 5 years of follow-up'.format(\n",
    "    five_year_cut\n",
    "))\n",
    "print('{:.3f} percent of controls have at least 2 years of follow-up'.format(\n",
    "    two_year_cut\n",
    "))"
   ]
  },
  {
   "cell_type": "markdown",
   "metadata": {},
   "source": [
    "ToDo: Check if cases exams with less than one year to diagnosis; and control exams with less than one year of follow up are dropped by model.\n",
    "\n",
    "Controls with just one side- look at periods exam taken"
   ]
  },
  {
   "cell_type": "markdown",
   "metadata": {},
   "source": [
    "# Mirai input sets preparation and loading  \n",
    "Sets:\n",
    "1. Full image set\n",
    "2. Stratified by race\n",
    "3. Stratified by tumor subtype\n",
    "4. Stratified by patient age bins\n",
    "5. Stratified by breast density"
   ]
  },
  {
   "cell_type": "markdown",
   "metadata": {},
   "source": [
    "# Full Image Set  "
   ]
  },
  {
   "cell_type": "code",
   "execution_count": 30,
   "metadata": {},
   "outputs": [],
   "source": [
    "#Save full set to csv for loading \n",
    "#full_set.to_csv(path_or_buf= \"data/cleaned/full_set_1114.csv\")"
   ]
  },
  {
   "cell_type": "code",
   "execution_count": 19,
   "metadata": {},
   "outputs": [
    {
     "name": "stdout",
     "output_type": "stream",
     "text": [
      "*****AVAILABLE/LOADED***** \n",
      " 2141 patients \n",
      " 1671 case exams for 704 cases \n",
      " 4947 control exams for 1437 controls \n",
      " 29381 total entries\n"
     ]
    }
   ],
   "source": [
    "print_summary2(full_set)"
   ]
  },
  {
   "cell_type": "markdown",
   "metadata": {},
   "source": [
    "# Grouping by race   \n",
    "Group into White, Black and Others  \n"
   ]
  },
  {
   "cell_type": "code",
   "execution_count": 20,
   "metadata": {},
   "outputs": [
    {
     "name": "stderr",
     "output_type": "stream",
     "text": [
      "Columns (0,16,17,43,46,50,51,82,108,110,111,135,136,138,140,156,157,158,159,161,176,178,179,180,182,183,184,185,217,221,225,226,229,230,232,233,234,235,236) have mixed types.Specify dtype option on import or set low_memory=False.\n",
      "Columns (9,13,14,42,47,48,53,58,62,63,65,66,67,69,71,75,111,121,122,123,125,164,182,184,187,189,197,213,228,233,238,240,245,247,252,275,277,279,335,362,368,379,389,399,409,421,452,517,542,567,578,595,605,622,632,649,659,686,713,903,920,930,957,984,1011,1038,1228,1255,1282,1309,1336,1363,1390,1553,1579,1605,1631,1657) have mixed types.Specify dtype option on import or set low_memory=False.\n"
     ]
    }
   ],
   "source": [
    "data_path = \"/gpfs/data/phs/groups/Projects/Huo_projects/SPORE/ojomoleye/data/CRDW_Registry_IndexDx_2020_Jul23.csv\"\n",
    "data = pd.read_csv(data_path)\n",
    "\n",
    "mrn_to_study_id = pd.read_csv(\n",
    "    \"/gpfs/data/phs/groups/Projects/Huo_projects/SPORE/ojomoleye/data/mrn_to_study_id.csv\",\n",
    "    names=[\"mrn\", \"study_id\"],\n",
    ")\n",
    "\n",
    "downloaded_images = pd.read_pickle(\n",
    "    \"/gpfs/data/phs/groups/Projects/Huo_projects/SPORE/ojomoleye/data/downloaded_imaging_metadata.pkl\"\n",
    ")\n",
    "\n",
    "cases_and_controls = pd.read_csv(\n",
    "    \"/gpfs/data/phs/groups/Projects/Huo_projects/SPORE/ojomoleye/data/dr_7934_pats.txt\",\n",
    "    sep=\"|\",\n",
    ")\n",
    "spore_registration = pd.read_csv(\n",
    "    \"/gpfs/data/phs/groups/Projects/Huo_projects/SPORE/ojomoleye/data/SPORERegistrationDat_DATA_2021-06-21_0927.csv\"\n",
    ")\n",
    "\n",
    "race_data= pd.read_excel(\"/gpfs/data/huo-lab/Image/ojomoleye/projects/mirai_validation/data/MRN_to_Race.xls\")"
   ]
  },
  {
   "cell_type": "code",
   "execution_count": 21,
   "metadata": {},
   "outputs": [
    {
     "name": "stdout",
     "output_type": "stream",
     "text": [
      "889 White - 319 cases and 570 controls \n",
      "955 Black - 337 cases and 618 controls \n",
      "65 Hispanic - 11 cases and 54 controls \n",
      "90 Asian - 31 cases and 59 controls \n",
      "5 Native Ame - 1 cases and 4 controls \n"
     ]
    },
    {
     "data": {
      "image/png": "[encoded data removed]",
      "text/plain": [
       "<Figure size 640x480 with 1 Axes>"
      ]
     },
     "metadata": {},
     "output_type": "display_data"
    },
    {
     "name": "stderr",
     "output_type": "stream",
     "text": [
      "\n",
      "A value is trying to be set on a copy of a slice from a DataFrame\n",
      "\n",
      "See the caveats in the documentation: https://pandas.pydata.org/pandas-docs/stable/user_guide/indexing.html#returning-a-view-versus-a-copy\n"
     ]
    }
   ],
   "source": [
    "white, black, hispanic, asian_and_native = prep_by_race(df=full_set)"
   ]
  },
  {
   "cell_type": "markdown",
   "metadata": {},
   "source": [
    "Export full set and race groups for validation"
   ]
  },
  {
   "cell_type": "code",
   "execution_count": 34,
   "metadata": {},
   "outputs": [],
   "source": [
    "# white.to_csv(path_or_buf= \"data/cleaned/white_set_1114.csv\")\n",
    "# black.to_csv(path_or_buf= \"data/cleaned/black_set_1112.csv\")\n",
    "# hispanic.to_csv(path_or_buf= \"data/cleaned/hispanic_set_1112.csv\")\n",
    "# asian_and_native.to_csv(path_or_buf= \"data/cleaned/asiannative_set_1112.csv\")"
   ]
  },
  {
   "cell_type": "code",
   "execution_count": null,
   "metadata": {},
   "outputs": [],
   "source": []
  },
  {
   "cell_type": "markdown",
   "metadata": {},
   "source": [
    "# Grouping by tumor receptor typing\n"
   ]
  },
  {
   "cell_type": "code",
   "execution_count": 35,
   "metadata": {},
   "outputs": [
    {
     "name": "stdout",
     "output_type": "stream",
     "text": [
      "there are 1671 unique case exams \n",
      "682 unique case exams with tumor type         \n",
      "40.81388390185518 percent of case exams with tumor type available\n"
     ]
    },
    {
     "name": "stderr",
     "output_type": "stream",
     "text": [
      "\n",
      "A value is trying to be set on a copy of a slice from a DataFrame.\n",
      "Try using .loc[row_indexer,col_indexer] = value instead\n",
      "\n",
      "See the caveats in the documentation: https://pandas.pydata.org/pandas-docs/stable/user_guide/indexing.html#returning-a-view-versus-a-copy\n",
      "\n",
      "A value is trying to be set on a copy of a slice from a DataFrame.\n",
      "Try using .loc[row_indexer,col_indexer] = value instead\n",
      "\n",
      "See the caveats in the documentation: https://pandas.pydata.org/pandas-docs/stable/user_guide/indexing.html#returning-a-view-versus-a-copy\n",
      "\n",
      "A value is trying to be set on a copy of a slice from a DataFrame.\n",
      "Try using .loc[row_indexer,col_indexer] = value instead\n",
      "\n",
      "See the caveats in the documentation: https://pandas.pydata.org/pandas-docs/stable/user_guide/indexing.html#returning-a-view-versus-a-copy\n"
     ]
    }
   ],
   "source": [
    "hr_pos, hr_neg, her2_pos, her2_neg, triple_neg = prep_by_tumor_subtype(df=full_set)"
   ]
  },
  {
   "cell_type": "code",
   "execution_count": 36,
   "metadata": {},
   "outputs": [],
   "source": [
    "hr_pos.to_csv(path_or_buf=\"data/cleaned/hrpos_set_1114.csv\")\n",
    "# hr_neg.to_csv(path_or_buf=\"data/cleaned/hrneg_set_1112.csv\")\n",
    "# her2_pos.to_csv(path_or_buf=\"data/cleaned/her2pos_set_1112.csv\")\n",
    "# her2_neg.to_csv(path_or_buf=\"data/cleaned/her2neg_set_1112.csv\")\n",
    "triple_neg.to_csv(path_or_buf=\"data/cleaned/tripleneg_set_1114.csv\")"
   ]
  },
  {
   "cell_type": "code",
   "execution_count": 37,
   "metadata": {},
   "outputs": [
    {
     "name": "stdout",
     "output_type": "stream",
     "text": [
      "*****AVAILABLE/LOADED***** \n",
      " 37 patients \n",
      " 80 case exams for 37 cases \n",
      " 0 control exams for 0 controls \n",
      " 353 total entries\n"
     ]
    }
   ],
   "source": [
    "print_summary2(triple_neg)"
   ]
  },
  {
   "cell_type": "code",
   "execution_count": 38,
   "metadata": {},
   "outputs": [
    {
     "name": "stdout",
     "output_type": "stream",
     "text": [
      "*****AVAILABLE/LOADED***** \n",
      " 219 patients \n",
      " 555 case exams for 219 cases \n",
      " 0 control exams for 0 controls \n",
      " 2392 total entries\n",
      "*****AVAILABLE/LOADED***** \n",
      " 50 patients \n",
      " 102 case exams for 50 cases \n",
      " 0 control exams for 0 controls \n",
      " 443 total entries\n"
     ]
    }
   ],
   "source": [
    "print_summary2(hr_pos)\n",
    "print_summary2(hr_neg)"
   ]
  },
  {
   "cell_type": "code",
   "execution_count": 39,
   "metadata": {},
   "outputs": [
    {
     "name": "stdout",
     "output_type": "stream",
     "text": [
      "*****AVAILABLE/LOADED***** \n",
      " 25 patients \n",
      " 57 case exams for 25 cases \n",
      " 0 control exams for 0 controls \n",
      " 245 total entries\n",
      "*****AVAILABLE/LOADED***** \n",
      " 199 patients \n",
      " 500 case exams for 199 cases \n",
      " 0 control exams for 0 controls \n",
      " 2164 total entries\n"
     ]
    }
   ],
   "source": [
    "print_summary2(her2_pos)\n",
    "print_summary2(her2_neg)"
   ]
  },
  {
   "cell_type": "code",
   "execution_count": null,
   "metadata": {},
   "outputs": [],
   "source": []
  },
  {
   "cell_type": "code",
   "execution_count": 40,
   "metadata": {},
   "outputs": [
    {
     "ename": "KeyError",
     "evalue": "'patient_exam_id'",
     "output_type": "error",
     "traceback": [
      "\u001b[0;31m---------------------------------------------------------------------------\u001b[0m",
      "\u001b[0;31mKeyError\u001b[0m                                  Traceback (most recent call last)",
      "\u001b[0;32m/tmp/ipykernel_122437/2762984941.py\u001b[0m in \u001b[0;36m<module>\u001b[0;34m\u001b[0m\n\u001b[1;32m      1\u001b[0m \u001b[0;31m#reshape dataframe\u001b[0m\u001b[0;34m\u001b[0m\u001b[0;34m\u001b[0m\u001b[0;34m\u001b[0m\u001b[0m\n\u001b[1;32m      2\u001b[0m \u001b[0;31m#https://stackoverflow.com/questions/22798934/pandas-long-to-wide-reshape-by-two-variables\u001b[0m\u001b[0;34m\u001b[0m\u001b[0;34m\u001b[0m\u001b[0;34m\u001b[0m\u001b[0m\n\u001b[0;32m----> 3\u001b[0;31m \u001b[0mdf\u001b[0m\u001b[0;34m[\u001b[0m\u001b[0;34m'idx'\u001b[0m\u001b[0;34m]\u001b[0m \u001b[0;34m=\u001b[0m \u001b[0mdf\u001b[0m\u001b[0;34m.\u001b[0m\u001b[0mgroupby\u001b[0m\u001b[0;34m(\u001b[0m\u001b[0;34m'patient_exam_id'\u001b[0m\u001b[0;34m)\u001b[0m\u001b[0;34m.\u001b[0m\u001b[0mcumcount\u001b[0m\u001b[0;34m(\u001b[0m\u001b[0;34m)\u001b[0m\u001b[0;34m\u001b[0m\u001b[0;34m\u001b[0m\u001b[0m\n\u001b[0m",
      "\u001b[0;32m/gpfs/data/phs/groups/Projects/Huo_projects/SPORE/ojomoleye/miniconda3/envs/maicara/lib/python3.8/site-packages/pandas/core/frame.py\u001b[0m in \u001b[0;36mgroupby\u001b[0;34m(self, by, axis, level, as_index, sort, group_keys, squeeze, observed, dropna)\u001b[0m\n\u001b[1;32m   7629\u001b[0m         \u001b[0;31m# error: Argument \"squeeze\" to \"DataFrameGroupBy\" has incompatible type\u001b[0m\u001b[0;34m\u001b[0m\u001b[0;34m\u001b[0m\u001b[0;34m\u001b[0m\u001b[0m\n\u001b[1;32m   7630\u001b[0m         \u001b[0;31m# \"Union[bool, NoDefault]\"; expected \"bool\"\u001b[0m\u001b[0;34m\u001b[0m\u001b[0;34m\u001b[0m\u001b[0;34m\u001b[0m\u001b[0m\n\u001b[0;32m-> 7631\u001b[0;31m         return DataFrameGroupBy(\n\u001b[0m\u001b[1;32m   7632\u001b[0m             \u001b[0mobj\u001b[0m\u001b[0;34m=\u001b[0m\u001b[0mself\u001b[0m\u001b[0;34m,\u001b[0m\u001b[0;34m\u001b[0m\u001b[0;34m\u001b[0m\u001b[0m\n\u001b[1;32m   7633\u001b[0m             \u001b[0mkeys\u001b[0m\u001b[0;34m=\u001b[0m\u001b[0mby\u001b[0m\u001b[0;34m,\u001b[0m\u001b[0;34m\u001b[0m\u001b[0;34m\u001b[0m\u001b[0m\n",
      "\u001b[0;32m/gpfs/data/phs/groups/Projects/Huo_projects/SPORE/ojomoleye/miniconda3/envs/maicara/lib/python3.8/site-packages/pandas/core/groupby/groupby.py\u001b[0m in \u001b[0;36m__init__\u001b[0;34m(self, obj, keys, axis, level, grouper, exclusions, selection, as_index, sort, group_keys, squeeze, observed, mutated, dropna)\u001b[0m\n\u001b[1;32m    887\u001b[0m             \u001b[0;32mfrom\u001b[0m \u001b[0mpandas\u001b[0m\u001b[0;34m.\u001b[0m\u001b[0mcore\u001b[0m\u001b[0;34m.\u001b[0m\u001b[0mgroupby\u001b[0m\u001b[0;34m.\u001b[0m\u001b[0mgrouper\u001b[0m \u001b[0;32mimport\u001b[0m \u001b[0mget_grouper\u001b[0m\u001b[0;34m\u001b[0m\u001b[0;34m\u001b[0m\u001b[0m\n\u001b[1;32m    888\u001b[0m \u001b[0;34m\u001b[0m\u001b[0m\n\u001b[0;32m--> 889\u001b[0;31m             grouper, exclusions, obj = get_grouper(\n\u001b[0m\u001b[1;32m    890\u001b[0m                 \u001b[0mobj\u001b[0m\u001b[0;34m,\u001b[0m\u001b[0;34m\u001b[0m\u001b[0;34m\u001b[0m\u001b[0m\n\u001b[1;32m    891\u001b[0m                 \u001b[0mkeys\u001b[0m\u001b[0;34m,\u001b[0m\u001b[0;34m\u001b[0m\u001b[0;34m\u001b[0m\u001b[0m\n",
      "\u001b[0;32m/gpfs/data/phs/groups/Projects/Huo_projects/SPORE/ojomoleye/miniconda3/envs/maicara/lib/python3.8/site-packages/pandas/core/groupby/grouper.py\u001b[0m in \u001b[0;36mget_grouper\u001b[0;34m(obj, key, axis, level, sort, observed, mutated, validate, dropna)\u001b[0m\n\u001b[1;32m    860\u001b[0m                 \u001b[0min_axis\u001b[0m\u001b[0;34m,\u001b[0m \u001b[0mlevel\u001b[0m\u001b[0;34m,\u001b[0m \u001b[0mgpr\u001b[0m \u001b[0;34m=\u001b[0m \u001b[0;32mFalse\u001b[0m\u001b[0;34m,\u001b[0m \u001b[0mgpr\u001b[0m\u001b[0;34m,\u001b[0m \u001b[0;32mNone\u001b[0m\u001b[0;34m\u001b[0m\u001b[0;34m\u001b[0m\u001b[0m\n\u001b[1;32m    861\u001b[0m             \u001b[0;32melse\u001b[0m\u001b[0;34m:\u001b[0m\u001b[0;34m\u001b[0m\u001b[0;34m\u001b[0m\u001b[0m\n\u001b[0;32m--> 862\u001b[0;31m                 \u001b[0;32mraise\u001b[0m \u001b[0mKeyError\u001b[0m\u001b[0;34m(\u001b[0m\u001b[0mgpr\u001b[0m\u001b[0;34m)\u001b[0m\u001b[0;34m\u001b[0m\u001b[0;34m\u001b[0m\u001b[0m\n\u001b[0m\u001b[1;32m    863\u001b[0m         \u001b[0;32melif\u001b[0m \u001b[0misinstance\u001b[0m\u001b[0;34m(\u001b[0m\u001b[0mgpr\u001b[0m\u001b[0;34m,\u001b[0m \u001b[0mGrouper\u001b[0m\u001b[0;34m)\u001b[0m \u001b[0;32mand\u001b[0m \u001b[0mgpr\u001b[0m\u001b[0;34m.\u001b[0m\u001b[0mkey\u001b[0m \u001b[0;32mis\u001b[0m \u001b[0;32mnot\u001b[0m \u001b[0;32mNone\u001b[0m\u001b[0;34m:\u001b[0m\u001b[0;34m\u001b[0m\u001b[0;34m\u001b[0m\u001b[0m\n\u001b[1;32m    864\u001b[0m             \u001b[0;31m# Add key to exclusions\u001b[0m\u001b[0;34m\u001b[0m\u001b[0;34m\u001b[0m\u001b[0;34m\u001b[0m\u001b[0m\n",
      "\u001b[0;31mKeyError\u001b[0m: 'patient_exam_id'"
     ]
    }
   ],
   "source": [
    "#reshape dataframe\n",
    "#https://stackoverflow.com/questions/22798934/pandas-long-to-wide-reshape-by-two-variables\n",
    "df['idx'] = df.groupby('patient_exam_id').cumcount()"
   ]
  },
  {
   "cell_type": "code",
   "execution_count": null,
   "metadata": {},
   "outputs": [],
   "source": [
    "#https://stackoverflow.com/questions/22798934/pandas-long-to-wide-reshape-by-two-variables\n",
    "tmp = []\n",
    "for var in ['laterality','view', 'file_path']:\n",
    "    df['tmp_idx'] = var + '_' + df.idx.astype(str)\n",
    "    tmp.append(df.pivot(index='patient_exam_id',columns='tmp_idx',values=var))\n",
    "\n",
    "reshape = pd.concat(tmp,axis=1)"
   ]
  },
  {
   "cell_type": "code",
   "execution_count": null,
   "metadata": {},
   "outputs": [],
   "source": []
  }
 ],
 "metadata": {
  "interpreter": {
   "hash": "8e3ff1b4c948ea418335793fce176ee611084ce7097f08d053960b24b6a67249"
  },
  "kernelspec": {
   "display_name": "Python 3.9.5 64-bit ('mirai': conda)",
   "name": "python3"
  },
  "language_info": {
   "codemirror_mode": {
    "name": "ipython",
    "version": 3
   },
   "file_extension": ".py",
   "mimetype": "text/x-python",
   "name": "python",
   "nbconvert_exporter": "python",
   "pygments_lexer": "ipython3",
   "version": "3.8.12"
  },
  "orig_nbformat": 4
 },
 "nbformat": 4,
 "nbformat_minor": 2
}
