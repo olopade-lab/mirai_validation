{
 "cells": [
  {
   "cell_type": "markdown",
   "metadata": {},
   "source": [
    "# Mirai Validation Results Interpretation Notebook\n",
    "\n",
    "The purpose of this notebook is to take in output results from Mirai Validation, evaluate input vs output results.  \n",
    "\n",
    "Look at (for full set and different groups):  \n",
    "- Probability thresholds and effect on sensitivity/specificity\n",
    "- Generated AUC vs reported AUC\n",
    "- AUC confidence intervals (for generated AUC)\n",
    "- Concordance Index\n"
   ]
  },
  {
   "cell_type": "markdown",
   "metadata": {},
   "source": [
    "Merge results with input data (by group)\n",
    "Select columns of interest to be used in survival analysis"
   ]
  },
  {
   "cell_type": "code",
   "execution_count": 22,
   "metadata": {},
   "outputs": [],
   "source": [
    "import pandas as pd \n",
    "import numpy as np\n",
    "import utils.metadata_inspect\n",
    "from utils.metadata_inspect import \\\n",
    "     print_summary, print_summary2, prep_results_input, auc_calculator, compute_concordance_index\n",
    "import os.path \n",
    "import sys\n",
    "from sksurv.metrics import concordance_index_censored"
   ]
  },
  {
   "cell_type": "markdown",
   "metadata": {},
   "source": [
    "# Full Cohort **"
   ]
  },
  {
   "cell_type": "code",
   "execution_count": 23,
   "metadata": {},
   "outputs": [
    {
     "name": "stdout",
     "output_type": "stream",
     "text": [
      "there are 22425 duplicated rows and 6556 unduplicated rows \n",
      "28981 total rows\n",
      "********************\n",
      "dropping duplicate rows; so only one entry per exam\n"
     ]
    }
   ],
   "source": [
    "results_path ='/gpfs/data/huo-lab/Image/ojomoleye/projects/mirai_validation/data/cleaned/preds_full_set1107.csv'\n",
    "input_path ='/gpfs/data/huo-lab/Image/ojomoleye/projects/mirai_validation/data/cleaned/full_set_1107.csv'\n",
    "\n",
    "full_set = prep_results_input(\n",
    "    results_path = results_path,\n",
    "    input_path= input_path)\n",
    "df = full_set"
   ]
  },
  {
   "cell_type": "code",
   "execution_count": 24,
   "metadata": {},
   "outputs": [
    {
     "name": "stdout",
     "output_type": "stream",
     "text": [
      "*****AVAILABLE/LOADED***** \n",
      " 2143 patients \n",
      " 1743 case exams for 736 cases \n",
      " 4813 control exams for 1407 controls \n",
      " 6556 total entries\n",
      "============================================================\n",
      "1-year: (0.4852845279720279, 0.4836435397285381, 0.4869255162155178) \n",
      "2-year: (0.49024569221599745, 0.48877760555116745, 0.49171377888082746)\n",
      "3-year: (0.48783321964067977, 0.48651601643272996, 0.4891504228486296)\n",
      "4-year: (0.4893307769563182, 0.48799740031688593, 0.4906641535957505)\n",
      "5-year: (0.4931031656105015, 0.4917898221534896, 0.4944165090675134)\n",
      "============================================================\n",
      "691 case-exams at 1 year of 6556\n",
      "1030 case-exams at 2 years of 6539\n",
      "1269 case-exams at 3 years of 5749\n",
      "1448 case-exams at 4 years of 5004\n",
      "1563 case-exams at 5 years of 4362\n",
      "DONE\n",
      "============================================================\n",
      "C-index & Confidence intervals: (0.4874759246879168, 0.48640836820066286, 0.4885434811751707)\n",
      "============================================================\n"
     ]
    }
   ],
   "source": [
    "print_summary2(df)\n",
    "print('=' * 60)\n",
    "auc_calculator(df, bootstraps=1000)\n",
    "print('=' * 60)\n",
    "compute_concordance_index(df, bootstraps=1000)\n",
    "print('=' * 60)"
   ]
  },
  {
   "cell_type": "markdown",
   "metadata": {},
   "source": [
    "# ANALYSIS BY SELF REPORTED ANCESTRY"
   ]
  },
  {
   "cell_type": "markdown",
   "metadata": {},
   "source": [
    "# Black Cohort "
   ]
  },
  {
   "cell_type": "code",
   "execution_count": 25,
   "metadata": {},
   "outputs": [
    {
     "name": "stdout",
     "output_type": "stream",
     "text": [
      "there are 10746 duplicated rows and 3003 unduplicated rows \n",
      "13749 total rows\n",
      "********************\n",
      "dropping duplicate rows; so only one entry per exam\n"
     ]
    }
   ],
   "source": [
    "results_path = '/gpfs/data/huo-lab/Image/ojomoleye/projects/mirai_validation/data/cleaned/preds_black1112.csv'\n",
    "input_path = '/gpfs/data/huo-lab/Image/ojomoleye/projects/mirai_validation/data/cleaned/black_set_1112.csv'\n",
    "\n",
    "black_set = prep_results_input(\n",
    "    results_path = results_path,\n",
    "    input_path= input_path)\n",
    "df = black_set"
   ]
  },
  {
   "cell_type": "code",
   "execution_count": 26,
   "metadata": {},
   "outputs": [
    {
     "name": "stdout",
     "output_type": "stream",
     "text": [
      "*****AVAILABLE/LOADED***** \n",
      " 941 patients \n",
      " 829 case exams for 335 cases \n",
      " 2174 control exams for 606 controls \n",
      " 3003 total entries\n",
      "============================================================\n",
      "1-year: (0.6814605881421255, 0.678973165476803, 0.683948010807448) \n",
      "2-year: (0.6590177323383095, 0.6569105423875594, 0.6611249222890596)\n",
      "3-year: (0.6596870508310613, 0.6577499943545885, 0.6616241073075341)\n",
      "4-year: (0.6533410119363525, 0.6514670920477651, 0.65521493182494)\n",
      "5-year: (0.6485662726321937, 0.6466184762174386, 0.6505140690469488)\n",
      "============================================================\n",
      "315 case-exams at 1 year of 3003\n",
      "463 case-exams at 2 years of 2889\n",
      "566 case-exams at 3 years of 2570\n",
      "664 case-exams at 4 years of 2268\n",
      "723 case-exams at 5 years of 2004\n",
      "DONE\n",
      "============================================================\n",
      "C-index & Confidence intervals: (0.6346492991217524, 0.6330362910552954, 0.6362623071882094)\n",
      "============================================================\n"
     ]
    }
   ],
   "source": [
    "print_summary2(df)\n",
    "print('=' * 60)\n",
    "auc_calculator(df, bootstraps=1000)\n",
    "print('=' * 60)\n",
    "compute_concordance_index(df, bootstraps=1000)\n",
    "print('=' * 60)"
   ]
  },
  {
   "cell_type": "markdown",
   "metadata": {},
   "source": [
    "# White Cohort "
   ]
  },
  {
   "cell_type": "code",
   "execution_count": 27,
   "metadata": {},
   "outputs": [
    {
     "name": "stdout",
     "output_type": "stream",
     "text": [
      "there are 8333 duplicated rows and 2519 unduplicated rows \n",
      "10852 total rows\n",
      "********************\n",
      "dropping duplicate rows; so only one entry per exam\n"
     ]
    }
   ],
   "source": [
    "results_path = '/gpfs/data/huo-lab/Image/ojomoleye/projects/mirai_validation/data/cleaned/preds_white1114.csv'\n",
    "input_path = '/gpfs/data/huo-lab/Image/ojomoleye/projects/mirai_validation/data/cleaned/white_set_1114.csv'\n",
    "\n",
    "white_set = prep_results_input(\n",
    "    results_path = results_path,\n",
    "    input_path= input_path)\n",
    "\n",
    "df = white_set"
   ]
  },
  {
   "cell_type": "code",
   "execution_count": 28,
   "metadata": {},
   "outputs": [
    {
     "name": "stdout",
     "output_type": "stream",
     "text": [
      "*****AVAILABLE/LOADED***** \n",
      " 869 patients \n",
      " 711 case exams for 316 cases \n",
      " 1808 control exams for 553 controls \n",
      " 2519 total entries\n",
      "============================================================\n",
      "1-year: (0.6543210397387044, 0.6518015614727283, 0.6568405180046805) \n",
      "2-year: (0.6229225328705472, 0.6207188303382266, 0.6251262354028678)\n",
      "3-year: (0.6307534588053909, 0.6287520281704546, 0.6327548894403272)\n",
      "4-year: (0.6345401373488385, 0.6325430039125879, 0.6365372707850891)\n",
      "5-year: (0.6405666335011485, 0.6384692639908347, 0.6426640030114623)\n",
      "============================================================\n",
      "294 case-exams at 1 year of 2519\n",
      "446 case-exams at 2 years of 2409\n",
      "550 case-exams at 3 years of 2117\n",
      "612 case-exams at 4 years of 1836\n",
      "653 case-exams at 5 years of 1603\n",
      "DONE\n",
      "============================================================\n",
      "C-index & Confidence intervals: (0.6143603411525799, 0.6126451718605308, 0.6160755104446289)\n",
      "============================================================\n"
     ]
    }
   ],
   "source": [
    "print_summary2(df)\n",
    "print('=' * 60)\n",
    "auc_calculator(df, bootstraps=1000)\n",
    "print('=' * 60)\n",
    "compute_concordance_index(df, bootstraps=1000)\n",
    "print('=' * 60)"
   ]
  },
  {
   "cell_type": "markdown",
   "metadata": {},
   "source": [
    "# Hispanic Cohort"
   ]
  },
  {
   "cell_type": "code",
   "execution_count": 29,
   "metadata": {},
   "outputs": [
    {
     "name": "stdout",
     "output_type": "stream",
     "text": [
      "there are 609 duplicated rows and 184 unduplicated rows \n",
      "793 total rows\n",
      "********************\n",
      "dropping duplicate rows; so only one entry per exam\n"
     ]
    }
   ],
   "source": [
    "results_path = '/gpfs/data/huo-lab/Image/ojomoleye/projects/mirai_validation/data/cleaned/preds_hispanic1112.csv'\n",
    "input_path = '/gpfs/data/huo-lab/Image/ojomoleye/projects/mirai_validation/data/cleaned/hispanic_set_1112.csv'\n",
    "hispanic_set = prep_results_input(\n",
    "    results_path = results_path,\n",
    "    input_path= input_path)\n",
    "\n",
    "\n",
    "df = hispanic_set\n",
    "#auc_values = auc_calculator(df=hispanic_set)"
   ]
  },
  {
   "cell_type": "code",
   "execution_count": 30,
   "metadata": {},
   "outputs": [
    {
     "name": "stdout",
     "output_type": "stream",
     "text": [
      "*****AVAILABLE/LOADED***** \n",
      " 63 patients \n",
      " 20 case exams for 10 cases \n",
      " 164 control exams for 53 controls \n",
      " 184 total entries\n",
      "============================================================\n",
      "1-year: (0.7323846153846155, 0.7113329943605027, 0.7534362364087284) \n",
      "2-year: (0.6804763893238721, 0.6665242717932962, 0.694428506854448)\n",
      "3-year: (0.6478933232889738, 0.6337698033551743, 0.6620168432227732)\n",
      "4-year: (0.6495620520675861, 0.6377347994734114, 0.6613893046617608)\n",
      "5-year: (0.6808476255498315, 0.6690025828176829, 0.6926926682819801)\n",
      "============================================================\n",
      "9 case-exams at 1 year of 184\n",
      "13 case-exams at 2 years of 172\n",
      "16 case-exams at 3 years of 144\n",
      "19 case-exams at 4 years of 117\n",
      "19 case-exams at 5 years of 95\n",
      "DONE\n",
      "============================================================\n",
      "C-index & Confidence intervals: (0.6214991666725591, 0.6091890692502254, 0.6338092640948928)\n",
      "============================================================\n"
     ]
    }
   ],
   "source": [
    "print_summary2(df)\n",
    "print('=' * 60)\n",
    "auc_calculator(df, bootstraps=1000)\n",
    "print('=' * 60)\n",
    "compute_concordance_index(df, bootstraps=1000)\n",
    "print('=' * 60)"
   ]
  },
  {
   "cell_type": "markdown",
   "metadata": {},
   "source": [
    "# Asian and Native American Cohort"
   ]
  },
  {
   "cell_type": "code",
   "execution_count": 31,
   "metadata": {},
   "outputs": [
    {
     "name": "stdout",
     "output_type": "stream",
     "text": [
      "there are 827 duplicated rows and 258 unduplicated rows \n",
      "1085 total rows\n",
      "********************\n",
      "dropping duplicate rows; so only one entry per exam\n"
     ]
    }
   ],
   "source": [
    "results_path = '//gpfs/data/huo-lab/Image/ojomoleye/projects/mirai_validation/data/cleaned/preds_asiannative1112.csv'\n",
    "input_path = '/gpfs/data/huo-lab/Image/ojomoleye/projects/mirai_validation/data/cleaned/asiannative_set_1112.csv'\n",
    "asianNA_set = prep_results_input(\n",
    "    results_path = results_path,\n",
    "    input_path= input_path)\n",
    "df = asianNA_set"
   ]
  },
  {
   "cell_type": "code",
   "execution_count": 32,
   "metadata": {},
   "outputs": [
    {
     "name": "stdout",
     "output_type": "stream",
     "text": [
      "*****AVAILABLE/LOADED***** \n",
      " 89 patients \n",
      " 80 case exams for 32 cases \n",
      " 178 control exams for 57 controls \n",
      " 258 total entries\n",
      "============================================================\n",
      "1-year: (0.6092428571428572, 0.6012311706141443, 0.6172545436715701) \n",
      "2-year: (0.6115332214585871, 0.604296325238988, 0.6187701176781862)\n",
      "3-year: (0.6012004013824974, 0.5944589568593184, 0.6079418459056765)\n",
      "4-year: (0.608628496301077, 0.6018296143632823, 0.6154273782388716)\n",
      "5-year: (0.6123651727482574, 0.6056329402767001, 0.6190974052198147)\n",
      "============================================================\n",
      "26 case-exams at 1 year of 258\n",
      "42 case-exams at 2 years of 244\n",
      "56 case-exams at 3 years of 214\n",
      "64 case-exams at 4 years of 184\n",
      "71 case-exams at 5 years of 159\n",
      "DONE\n",
      "============================================================\n",
      "C-index & Confidence intervals: (0.5811962299423328, 0.5760543429070382, 0.5863381169776274)\n",
      "============================================================\n"
     ]
    }
   ],
   "source": [
    "print_summary2(df)\n",
    "print('=' * 60)\n",
    "auc_calculator(df, bootstraps=1000)\n",
    "print('=' * 60)\n",
    "compute_concordance_index(df, bootstraps=1000)\n",
    "print('=' * 60)"
   ]
  },
  {
   "cell_type": "markdown",
   "metadata": {},
   "source": [
    "# ANALYSIS BY BREAST TUMOR SUBTYPE"
   ]
  },
  {
   "cell_type": "markdown",
   "metadata": {},
   "source": [
    "# Hormone Receptor Positive"
   ]
  },
  {
   "cell_type": "code",
   "execution_count": 33,
   "metadata": {},
   "outputs": [
    {
     "name": "stdout",
     "output_type": "stream",
     "text": [
      "there are 1834 duplicated rows and 553 unduplicated rows \n",
      "2387 total rows\n",
      "********************\n",
      "dropping duplicate rows; so only one entry per exam\n"
     ]
    }
   ],
   "source": [
    "results_path = '/gpfs/data/huo-lab/Image/ojomoleye/projects/mirai_validation/data/cleaned/preds_hrpos1114.csv'\n",
    "input_path = '/gpfs/data/huo-lab/Image/ojomoleye/projects/mirai_validation/data/cleaned/hrpos_set_1114.csv'\n",
    "hrpos_set = prep_results_input(\n",
    "    results_path = results_path,\n",
    "    input_path= input_path)\n",
    "\n",
    "df = hrpos_set"
   ]
  },
  {
   "cell_type": "code",
   "execution_count": 34,
   "metadata": {},
   "outputs": [
    {
     "name": "stdout",
     "output_type": "stream",
     "text": [
      "*****AVAILABLE/LOADED***** \n",
      " 218 patients \n",
      " 553 case exams for 218 cases \n",
      " 0 control exams for 0 controls \n",
      " 553 total entries\n",
      "============================================================\n",
      "1-year: (0.6051382275132275, 0.6011241554934106, 0.6091522995330445) \n",
      "2-year: (0.564546783625731, 0.5609966617763517, 0.5680969054751103)\n",
      "3-year: (0.5709642375168692, 0.5672324162836392, 0.5746960587500992)\n",
      "4-year: (0.5533700854700856, 0.5493151993571229, 0.5574249715830483)\n",
      "5-year: (0.5443075117370891, 0.5394412409189667, 0.5491737825552115)\n",
      "============================================================\n",
      "190 case-exams at 1 year of 553\n",
      "301 case-exams at 2 years of 553\n",
      "378 case-exams at 3 years of 553\n",
      "431 case-exams at 4 years of 553\n",
      "473 case-exams at 5 years of 553\n",
      "DONE\n",
      "============================================================\n",
      "C-index & Confidence intervals: (0.5581202927178118, 0.5555011450532246, 0.5607394403823991)\n",
      "============================================================\n"
     ]
    }
   ],
   "source": [
    "print_summary2(df)\n",
    "print('=' * 60)\n",
    "auc_calculator(df, bootstraps=1000)\n",
    "print('=' * 60)\n",
    "compute_concordance_index(df, bootstraps=1000)\n",
    "print('=' * 60)"
   ]
  },
  {
   "cell_type": "markdown",
   "metadata": {},
   "source": [
    "# Hormone Receptor Negative"
   ]
  },
  {
   "cell_type": "code",
   "execution_count": 35,
   "metadata": {},
   "outputs": [
    {
     "name": "stdout",
     "output_type": "stream",
     "text": [
      "there are 339 duplicated rows and 101 unduplicated rows \n",
      "440 total rows\n",
      "********************\n",
      "dropping duplicate rows; so only one entry per exam\n"
     ]
    }
   ],
   "source": [
    "results_path = '/gpfs/data/huo-lab/Image/ojomoleye/projects/mirai_validation/data/cleaned/preds_hrneg1112.csv'\n",
    "input_path = '/gpfs/data/huo-lab/Image/ojomoleye/projects/mirai_validation/data/cleaned/hrneg_set_1112.csv'\n",
    "hrneg_set = prep_results_input(\n",
    "    results_path = results_path,\n",
    "    input_path= input_path)\n",
    "\n",
    "df = hrneg_set"
   ]
  },
  {
   "cell_type": "code",
   "execution_count": 36,
   "metadata": {},
   "outputs": [
    {
     "name": "stdout",
     "output_type": "stream",
     "text": [
      "*****AVAILABLE/LOADED***** \n",
      " 49 patients \n",
      " 101 case exams for 49 cases \n",
      " 0 control exams for 0 controls \n",
      " 101 total entries\n",
      "============================================================\n",
      "1-year: (0.5926296296296297, 0.5839327312108139, 0.6013265280484456) \n",
      "2-year: (0.5268333333333334, 0.5180433490018617, 0.5356233176648051)\n",
      "3-year: (0.4325227272727272, 0.4231228277138427, 0.44192262683161176)\n",
      "4-year: (0.3827777777777778, 0.3725912802954263, 0.3929642752601292)\n",
      "5-year: (0.32742857142857146, 0.3173325082797409, 0.337524634577402)\n",
      "============================================================\n",
      "39 case-exams at 1 year of 101\n",
      "58 case-exams at 2 years of 101\n",
      "72 case-exams at 3 years of 101\n",
      "83 case-exams at 4 years of 101\n",
      "90 case-exams at 5 years of 101\n",
      "DONE\n",
      "============================================================\n",
      "C-index & Confidence intervals: (0.5060540579256801, 0.49953138509599304, 0.5125767307553672)\n",
      "============================================================\n"
     ]
    }
   ],
   "source": [
    "print_summary2(df)\n",
    "print('=' * 60)\n",
    "auc_calculator(df, bootstraps=1000)\n",
    "print('=' * 60)\n",
    "compute_concordance_index(df, bootstraps=1000)\n",
    "print('=' * 60)"
   ]
  },
  {
   "cell_type": "markdown",
   "metadata": {},
   "source": [
    "# HER2 Positive"
   ]
  },
  {
   "cell_type": "code",
   "execution_count": 37,
   "metadata": {},
   "outputs": [
    {
     "name": "stdout",
     "output_type": "stream",
     "text": [
      "there are 188 duplicated rows and 57 unduplicated rows \n",
      "245 total rows\n",
      "********************\n",
      "dropping duplicate rows; so only one entry per exam\n"
     ]
    }
   ],
   "source": [
    "results_path = '/gpfs/data/huo-lab/Image/ojomoleye/projects/mirai_validation/data/cleaned/preds_her2pos1112.csv'\n",
    "input_path = '/gpfs/data/huo-lab/Image/ojomoleye/projects/mirai_validation/data/cleaned/her2pos_set_1112.csv'\n",
    "her2pos_set = prep_results_input(\n",
    "    results_path = results_path,\n",
    "    input_path= input_path)\n",
    "\n",
    "df = her2pos_set"
   ]
  },
  {
   "cell_type": "code",
   "execution_count": 38,
   "metadata": {},
   "outputs": [
    {
     "name": "stdout",
     "output_type": "stream",
     "text": [
      "*****AVAILABLE/LOADED***** \n",
      " 25 patients \n",
      " 57 case exams for 25 cases \n",
      " 0 control exams for 0 controls \n",
      " 57 total entries\n",
      "============================================================\n",
      "1-year: (0.5745555555555556, 0.5619921816722204, 0.5871189294388908) \n",
      "2-year: (0.58375, 0.5725748369432017, 0.5949251630567983)\n",
      "3-year: (0.531, 0.519128192309132, 0.5428718076908681)\n",
      "4-year: (0.5102857142857142, 0.49800612026521307, 0.5225653083062154)\n",
      "5-year: (0.57375, 0.5595076569337543, 0.5879923430662457)\n",
      "============================================================\n",
      "18 case-exams at 1 year of 57\n",
      "33 case-exams at 2 years of 57\n",
      "40 case-exams at 3 years of 57\n",
      "46 case-exams at 4 years of 57\n",
      "50 case-exams at 5 years of 57\n",
      "DONE\n",
      "============================================================\n",
      "C-index & Confidence intervals: (0.5619494141159111, 0.5537820591391363, 0.570116769092686)\n",
      "============================================================\n"
     ]
    }
   ],
   "source": [
    "print_summary2(df)\n",
    "print('=' * 60)\n",
    "auc_calculator(df, bootstraps=1000)\n",
    "print('=' * 60)\n",
    "compute_concordance_index(df, bootstraps=1000)\n",
    "print('=' * 60)"
   ]
  },
  {
   "cell_type": "markdown",
   "metadata": {},
   "source": [
    "# HER2 Negative"
   ]
  },
  {
   "cell_type": "code",
   "execution_count": 39,
   "metadata": {},
   "outputs": [
    {
     "name": "stdout",
     "output_type": "stream",
     "text": [
      "there are 1663 duplicated rows and 499 unduplicated rows \n",
      "2162 total rows\n",
      "********************\n",
      "dropping duplicate rows; so only one entry per exam\n"
     ]
    }
   ],
   "source": [
    "results_path = '/gpfs/data/huo-lab/Image/ojomoleye/projects/mirai_validation/data/cleaned/preds_her2neg1112.csv'\n",
    "input_path = '/gpfs/data/huo-lab/Image/ojomoleye/projects/mirai_validation/data/cleaned/her2neg_set_1112.csv'\n",
    "her2neg_set = prep_results_input(\n",
    "    results_path = results_path,\n",
    "    input_path= input_path)\n",
    "df = her2neg_set"
   ]
  },
  {
   "cell_type": "code",
   "execution_count": 40,
   "metadata": {},
   "outputs": [
    {
     "name": "stdout",
     "output_type": "stream",
     "text": [
      "*****AVAILABLE/LOADED***** \n",
      " 199 patients \n",
      " 499 case exams for 199 cases \n",
      " 0 control exams for 0 controls \n",
      " 499 total entries\n",
      "============================================================\n",
      "1-year: (0.599096546310832, 0.5950835419451924, 0.6031095506764715) \n",
      "2-year: (0.5508389705882353, 0.5468735736362295, 0.5548043675402411)\n",
      "3-year: (0.5471013071895424, 0.5432408372607784, 0.5509617771183064)\n",
      "4-year: (0.5344555084745761, 0.5299970475345162, 0.5389139694146361)\n",
      "5-year: (0.5144338461538461, 0.5089400186508999, 0.5199276736567924)\n",
      "============================================================\n",
      "170 case-exams at 1 year of 499\n",
      "269 case-exams at 2 years of 499\n",
      "342 case-exams at 3 years of 499\n",
      "392 case-exams at 4 years of 499\n",
      "432 case-exams at 5 years of 499\n",
      "DONE\n",
      "============================================================\n",
      "C-index & Confidence intervals: (0.5476294970761958, 0.5449420948767092, 0.5503168992756824)\n",
      "============================================================\n"
     ]
    }
   ],
   "source": [
    "print_summary2(df)\n",
    "print('=' * 60)\n",
    "auc_calculator(df, bootstraps=1000)\n",
    "print('=' * 60)\n",
    "compute_concordance_index(df, bootstraps=1000)\n",
    "print('=' * 60)"
   ]
  },
  {
   "cell_type": "markdown",
   "metadata": {},
   "source": [
    "# Triple Negative Set"
   ]
  },
  {
   "cell_type": "code",
   "execution_count": 41,
   "metadata": {},
   "outputs": [
    {
     "name": "stdout",
     "output_type": "stream",
     "text": [
      "there are 273 duplicated rows and 80 unduplicated rows \n",
      "353 total rows\n",
      "********************\n",
      "dropping duplicate rows; so only one entry per exam\n"
     ]
    }
   ],
   "source": [
    "results_path = '/gpfs/data/huo-lab/Image/ojomoleye/projects/mirai_validation/data/cleaned/preds_tripleneg1114.csv'\n",
    "input_path = '/gpfs/data/huo-lab/Image/ojomoleye/projects/mirai_validation/data/cleaned/tripleneg_set_1114.csv'\n",
    "tripleneg_set = prep_results_input(\n",
    "    results_path = results_path,\n",
    "    input_path= input_path)\n",
    "df = tripleneg_set"
   ]
  },
  {
   "cell_type": "code",
   "execution_count": 42,
   "metadata": {},
   "outputs": [
    {
     "name": "stdout",
     "output_type": "stream",
     "text": [
      "*****AVAILABLE/LOADED***** \n",
      " 37 patients \n",
      " 80 case exams for 37 cases \n",
      " 0 control exams for 0 controls \n",
      " 80 total entries\n",
      "============================================================\n",
      "1-year: (0.5443142857142856, 0.5344622488686458, 0.5541663225599255) \n",
      "2-year: (0.47965714285714284, 0.4699491407705854, 0.48936514494370026)\n",
      "3-year: (0.38148148148148153, 0.3704310902964911, 0.392531872666472)\n",
      "4-year: (0.34545, 0.33377659411544125, 0.3571234058845587)\n",
      "5-year: (0.28172727272727266, 0.26946346582308905, 0.29399107963145626)\n",
      "============================================================\n",
      "32 case-exams at 1 year of 80\n",
      "48 case-exams at 2 years of 80\n",
      "59 case-exams at 3 years of 80\n",
      "67 case-exams at 4 years of 80\n",
      "72 case-exams at 5 years of 80\n",
      "DONE\n",
      "============================================================\n",
      "C-index & Confidence intervals: (0.481355937043436, 0.47409442173646027, 0.4886174523504117)\n",
      "============================================================\n"
     ]
    }
   ],
   "source": [
    "print_summary2(df)\n",
    "print('=' * 60)\n",
    "auc_calculator(df, bootstraps=1000)\n",
    "print('=' * 60)\n",
    "compute_concordance_index(df, bootstraps=1000)\n",
    "print('=' * 60)"
   ]
  },
  {
   "cell_type": "markdown",
   "metadata": {},
   "source": [
    "# Grouping by Age"
   ]
  },
  {
   "cell_type": "markdown",
   "metadata": {},
   "source": [
    "# Grouping by Breast Density"
   ]
  },
  {
   "cell_type": "markdown",
   "metadata": {},
   "source": [
    "# Grouping by Annotation Filter"
   ]
  },
  {
   "cell_type": "markdown",
   "metadata": {},
   "source": [
    "# Grouping by Machine Filter"
   ]
  },
  {
   "cell_type": "code",
   "execution_count": null,
   "metadata": {},
   "outputs": [],
   "source": []
  }
 ],
 "metadata": {
  "interpreter": {
   "hash": "767d51c1340bd893661ea55ea3124f6de3c7a262a8b4abca0554b478b1e2ff90"
  },
  "kernelspec": {
   "display_name": "Python 2.7.5 64-bit",
   "language": "python",
   "name": "python3"
  },
  "language_info": {
   "codemirror_mode": {
    "name": "ipython",
    "version": 3
   },
   "file_extension": ".py",
   "mimetype": "text/x-python",
   "name": "python",
   "nbconvert_exporter": "python",
   "pygments_lexer": "ipython3",
   "version": "3.8.12"
  },
  "orig_nbformat": 4
 },
 "nbformat": 4,
 "nbformat_minor": 2
}
